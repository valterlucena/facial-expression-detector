{
  "nbformat": 4,
  "nbformat_minor": 0,
  "metadata": {
    "colab": {
      "name": "Detecção de expressoes faciais.ipynb",
      "provenance": [],
      "include_colab_link": true
    },
    "kernelspec": {
      "name": "python3",
      "display_name": "Python 3"
    },
    "accelerator": "GPU"
  },
  "cells": [
    {
      "cell_type": "markdown",
      "metadata": {
        "id": "view-in-github",
        "colab_type": "text"
      },
      "source": [
        "<a href=\"https://colab.research.google.com/github/valterlucena/facial-expression-detector/blob/master/facial_expressions_detection.ipynb\" target=\"_parent\"><img src=\"https://colab.research.google.com/assets/colab-badge.svg\" alt=\"Open In Colab\"/></a>"
      ]
    },
    {
      "cell_type": "code",
      "metadata": {
        "id": "uA1V6L2ILwX2",
        "colab_type": "code",
        "colab": {
          "base_uri": "https://localhost:8080/",
          "height": 80
        },
        "outputId": "11ff21d2-7582-4848-c1c8-fecd6dd169ea"
      },
      "source": [
        "import numpy as np \n",
        "import matplotlib.pyplot as plt\n",
        "from sklearn.model_selection import train_test_split as tts\n",
        "from google.colab.patches import cv2_imshow\n",
        "from sklearn.model_selection import train_test_split\n",
        "import keras\n",
        "from keras.layers import Activation, Convolution2D, Dropout, Conv2D\n",
        "from keras.layers import AveragePooling2D, BatchNormalization\n",
        "from keras.layers import GlobalAveragePooling2D\n",
        "from keras.models import Sequential\n",
        "from keras.layers import Flatten\n",
        "from keras.models import Model\n",
        "from keras.layers import Input\n",
        "from keras.layers import MaxPooling2D\n",
        "from keras.layers import SeparableConv2D\n",
        "from keras import layers\n",
        "from keras.regularizers import l2\n",
        "import pandas as pd\n",
        "import cv2\n",
        "import numpy as np\n",
        "from sklearn.utils import shuffle\n",
        "import os, cv2"
      ],
      "execution_count": 1,
      "outputs": [
        {
          "output_type": "stream",
          "text": [
            "Using TensorFlow backend.\n"
          ],
          "name": "stderr"
        },
        {
          "output_type": "display_data",
          "data": {
            "text/html": [
              "<p style=\"color: red;\">\n",
              "The default version of TensorFlow in Colab will soon switch to TensorFlow 2.x.<br>\n",
              "We recommend you <a href=\"https://www.tensorflow.org/guide/migrate\" target=\"_blank\">upgrade</a> now \n",
              "or ensure your notebook will continue to use TensorFlow 1.x via the <code>%tensorflow_version 1.x</code> magic:\n",
              "<a href=\"https://colab.research.google.com/notebooks/tensorflow_version.ipynb\" target=\"_blank\">more info</a>.</p>\n"
            ],
            "text/plain": [
              "<IPython.core.display.HTML object>"
            ]
          },
          "metadata": {
            "tags": []
          }
        }
      ]
    },
    {
      "cell_type": "markdown",
      "metadata": {
        "id": "Ubg6XhFOZKdN",
        "colab_type": "text"
      },
      "source": [
        "Para realizar o experimento, utilizaremos Python com o auxílio do keras, pandas e outras bibliotecas que nos auxiliará a manipular as imagens."
      ]
    },
    {
      "cell_type": "markdown",
      "metadata": {
        "id": "zVzeCRt8ZjyU",
        "colab_type": "text"
      },
      "source": [
        "Inicialmente, importaremos a base de imagens contendo rostos de diversas pessoas demonstrando emoções diferentes. Para cada pessoa, teremos duas imagens\n",
        "de cada emoção sendo elas: **felicidade, nojo, raiva, tristeza, medo e uma expressão neutra**. A base contém 72 fotos."
      ]
    },
    {
      "cell_type": "code",
      "metadata": {
        "id": "7CLq4cxIfsM_",
        "colab_type": "code",
        "outputId": "413f6031-ffd9-4d20-a402-83fd6d97c484",
        "colab": {
          "base_uri": "https://localhost:8080/",
          "height": 34
        }
      },
      "source": [
        "from google.colab import drive\n",
        "drive.mount('/content/gdrive')\n",
        "width = int(2835)\n",
        "heigth = int(3543)"
      ],
      "execution_count": 2,
      "outputs": [
        {
          "output_type": "stream",
          "text": [
            "Drive already mounted at /content/gdrive; to attempt to forcibly remount, call drive.mount(\"/content/gdrive\", force_remount=True).\n"
          ],
          "name": "stdout"
        }
      ]
    },
    {
      "cell_type": "markdown",
      "metadata": {
        "id": "9S1Xs_K1a6j2",
        "colab_type": "text"
      },
      "source": [
        "Cada imagem tem uma dimensão de 3543 x 2835 e passará por um pré processamento antes de ser inputada no modelo de treinamento. Os trataremos que faremos serão os seguinte:\n",
        "\n",
        "\n",
        "*   Detecção de *bounding box* para face (com intuito de eliminar background)\n",
        "*   Redução de RGB para escala de cinza (com intuito de reduzir o espaço gasto e assim otimizar o treinamento)\n",
        "*   Redução das dimensões das imagens (com intuito de reduzir o espaço gasto e assim otimizar o treinamento).\n",
        "\n"
      ]
    },
    {
      "cell_type": "code",
      "metadata": {
        "id": "fyDdE5lgd9P1",
        "colab_type": "code",
        "outputId": "a6f247f3-2147-4b55-c8cb-ba0e7adb4032",
        "colab": {
          "base_uri": "https://localhost:8080/",
          "height": 221
        }
      },
      "source": [
        "!wget http://dlib.net/files/mmod_human_face_detector.dat.bz2 \n",
        "!bzip2 -dk mmod_human_face_detector.dat.bz2 "
      ],
      "execution_count": 3,
      "outputs": [
        {
          "output_type": "stream",
          "text": [
            "--2019-12-06 13:27:09--  http://dlib.net/files/mmod_human_face_detector.dat.bz2\n",
            "Resolving dlib.net (dlib.net)... 107.180.26.78\n",
            "Connecting to dlib.net (dlib.net)|107.180.26.78|:80... connected.\n",
            "HTTP request sent, awaiting response... 200 OK\n",
            "Length: 694709 (678K)\n",
            "Saving to: ‘mmod_human_face_detector.dat.bz2.2’\n",
            "\n",
            "\r          mmod_huma   0%[                    ]       0  --.-KB/s               \r         mmod_human  18%[==>                 ] 128.38K   562KB/s               \r        mmod_human_  89%[================>   ] 608.68K  1.30MB/s               \rmmod_human_face_det 100%[===================>] 678.43K  1.45MB/s    in 0.5s    \n",
            "\n",
            "2019-12-06 13:27:09 (1.45 MB/s) - ‘mmod_human_face_detector.dat.bz2.2’ saved [694709/694709]\n",
            "\n",
            "bzip2: Output file mmod_human_face_detector.dat already exists.\n"
          ],
          "name": "stdout"
        }
      ]
    },
    {
      "cell_type": "code",
      "metadata": {
        "id": "rDPoU5Ojj8kt",
        "colab_type": "code",
        "colab": {}
      },
      "source": [
        "import cv2\n",
        "import dlib\n",
        "\n",
        "# Carrega Rede neural convolucional para detecção de face\n",
        "dnnFaceDetector=dlib.cnn_face_detection_model_v1(\"mmod_human_face_detector.dat\")\n",
        "\n",
        "path = '/content/gdrive/My Drive/PercepcaoComputacional/faces/'\n",
        "imgfiles = [ifile for ifile in os.listdir(path) if ifile.endswith('.jpg')]\n",
        "images = []\n",
        "# As labels de cada emoção estão definidas no nome do arquivo\n",
        "labels = [label[-7][0] for label in imgfiles]\n",
        "for imgfile in imgfiles:\n",
        "    img = cv2.imread(path + imgfile)\n",
        "    # Aqui realizamos a mudança para a escala de cinza\n",
        "    gray = cv2.cvtColor(img, cv2.COLOR_BGR2GRAY)\n",
        "    # Reconhecemos a face\n",
        "    rects=dnnFaceDetector(gray,1)\n",
        "   \n",
        "    left,top,right,bottom=0,0,0,0\n",
        "\n",
        "    # Para todo rosto da imagem, é gerado um par com as coordenadas\n",
        "    # que definem o bounding box. Como temo apenas um rosto em cada\n",
        "    # imagem, sempre haverá apenas 1 interação nesse for\n",
        "    for (i,rect) in enumerate(rects):\n",
        "      left=rect.rect.left() #x1\n",
        "      top=rect.rect.top() #y1\n",
        "      right=rect.rect.right() #x2\n",
        "      bottom=rect.rect.bottom() #y2\n",
        "      width=right-left\n",
        "      height=bottom-top\n",
        "\n",
        "      # Realizamos a cropagem da imagem \n",
        "      img_crop=gray[top:top+height,left:left+width]\n",
        "      # Reduzimos sua dimensão para um valor predefinido\n",
        "      img = cv2.resize(img_crop,(200, 200), interpolation = cv2.INTER_AREA)\n",
        "      images.append(img)"
      ],
      "execution_count": 0,
      "outputs": []
    },
    {
      "cell_type": "markdown",
      "metadata": {
        "id": "bOQV0wVnclUO",
        "colab_type": "text"
      },
      "source": [
        "A seguir temos uma imagem resultado de como ficou nossa base pós processamento:"
      ]
    },
    {
      "cell_type": "code",
      "metadata": {
        "id": "w90wcrHQQI6D",
        "colab_type": "code",
        "outputId": "7044290e-11f3-4aec-c8e0-0eefd36e3ca8",
        "colab": {
          "base_uri": "https://localhost:8080/",
          "height": 217
        }
      },
      "source": [
        "cv2_imshow(images[0])"
      ],
      "execution_count": 5,
      "outputs": [
        {
          "output_type": "display_data",
          "data": {
            "image/png": "[encoded data removed]",
            "text/plain": [
              "<PIL.Image.Image image mode=L size=200x200 at 0x7F6BFF4C79B0>"
            ]
          },
          "metadata": {
            "tags": []
          }
        }
      ]
    },
    {
      "cell_type": "markdown",
      "metadata": {
        "id": "J8G72SQmc18z",
        "colab_type": "text"
      },
      "source": [
        "Realizamos o levantamento de quais categorias existem e mapeamos as expressões para valores numéricos para se adequar ao treinamento do keras:"
      ]
    },
    {
      "cell_type": "code",
      "metadata": {
        "id": "1w86tHUdFaCk",
        "colab_type": "code",
        "colab": {}
      },
      "source": [
        "unique_labels = list(set(labels))\n",
        "wi = {v: i for i, v in enumerate(unique_labels)}\n",
        "rwi = {i: v for i, v in enumerate(unique_labels)}\n",
        "num_labels = [wi[l] for l in labels]"
      ],
      "execution_count": 0,
      "outputs": []
    },
    {
      "cell_type": "code",
      "metadata": {
        "id": "hjPkZvE-1DT2",
        "colab_type": "code",
        "outputId": "76506a64-3ee5-43a7-ce7d-2b021cf2a5c0",
        "colab": {
          "base_uri": "https://localhost:8080/",
          "height": 34
        }
      },
      "source": [
        "print(unique_labels)"
      ],
      "execution_count": 7,
      "outputs": [
        {
          "output_type": "stream",
          "text": [
            "['s', 'f', 'a', 'd', 'h', 'n']\n"
          ],
          "name": "stdout"
        }
      ]
    },
    {
      "cell_type": "markdown",
      "metadata": {
        "id": "GuVPhLld1HSt",
        "colab_type": "text"
      },
      "source": [
        "* n - *Neutral* \n",
        "* h - *Happy*\n",
        "* a - *Anger*\n",
        "* s - *Sadness*\n",
        "* f - *Fear*\n",
        "* d - *Disgust*"
      ]
    },
    {
      "cell_type": "code",
      "metadata": {
        "id": "sznKZqRpdNfs",
        "colab_type": "code",
        "outputId": "c8b03375-4f70-4d22-e764-c0306cb2a6da",
        "colab": {
          "base_uri": "https://localhost:8080/",
          "height": 51
        }
      },
      "source": [
        "print(rwi)\n",
        "print(wi)"
      ],
      "execution_count": 8,
      "outputs": [
        {
          "output_type": "stream",
          "text": [
            "{0: 's', 1: 'f', 2: 'a', 3: 'd', 4: 'h', 5: 'n'}\n",
            "{'s': 0, 'f': 1, 'a': 2, 'd': 3, 'h': 4, 'n': 5}\n"
          ],
          "name": "stdout"
        }
      ]
    },
    {
      "cell_type": "code",
      "metadata": {
        "id": "y2M0zSODO06C",
        "colab_type": "code",
        "colab": {}
      },
      "source": [
        "imagesnp = np.array(images)\n",
        "imagesnp = imagesnp.reshape(-1, 200, 200,1)"
      ],
      "execution_count": 0,
      "outputs": []
    },
    {
      "cell_type": "code",
      "metadata": {
        "id": "1XnBaaK6O_i_",
        "colab_type": "code",
        "outputId": "555c210b-b820-48e3-84a9-281e8b3d7edb",
        "colab": {
          "base_uri": "https://localhost:8080/",
          "height": 1000
        }
      },
      "source": [
        "regularization = l2(0.01)\n",
        "img_input = Input((200, 200, 1))\n",
        "x = Conv2D(8, (3, 3), strides=(1, 1), kernel_regularizer=regularization, use_bias=False)(img_input)\n",
        "x = BatchNormalization()(x)\n",
        "x = Activation('relu')(x)\n",
        "x = Conv2D(8, (3, 3), strides=(1, 1), kernel_regularizer=regularization, use_bias=False)(x)\n",
        "x = BatchNormalization()(x)\n",
        "x = Activation('relu')(x)\n",
        " \n",
        "# module 1\n",
        "residual = Conv2D(16, (1, 1), strides=(2, 2), padding='same', use_bias=False)(x)\n",
        "residual = BatchNormalization()(residual)\n",
        "x = SeparableConv2D(16, (3, 3), padding='same', kernel_regularizer=regularization, use_bias=False)(x)\n",
        "x = BatchNormalization()(x)\n",
        "x = Activation('relu')(x)\n",
        "x = SeparableConv2D(16, (3, 3), padding='same', kernel_regularizer=regularization, use_bias=False)(x)\n",
        "x = BatchNormalization()(x)\n",
        "x = MaxPooling2D((3, 3), strides=(2, 2), padding='same')(x)\n",
        "x = layers.add([x, residual])\n",
        " \n",
        "# module 2\n",
        "residual = Conv2D(32, (1, 1), strides=(2, 2), padding='same', use_bias=False)(x)\n",
        "residual = BatchNormalization()(residual)\n",
        "x = SeparableConv2D(32, (3, 3), padding='same', kernel_regularizer=regularization, use_bias=False)(x)\n",
        "x = BatchNormalization()(x)\n",
        "x = Activation('relu')(x)\n",
        "x = SeparableConv2D(32, (3, 3), padding='same', kernel_regularizer=regularization, use_bias=False)(x)\n",
        "x = BatchNormalization()(x)\n",
        "x = MaxPooling2D((3, 3), strides=(2, 2), padding='same')(x)\n",
        "x = layers.add([x, residual])\n",
        " \n",
        "# module 3\n",
        "residual = Conv2D(64, (1, 1), strides=(2, 2),padding='same', use_bias=False)(x)\n",
        "residual = BatchNormalization()(residual)\n",
        "x = SeparableConv2D(64, (3, 3), padding='same',kernel_regularizer=regularization,use_bias=False)(x)\n",
        "x = BatchNormalization()(x)\n",
        "x = Activation('relu')(x)\n",
        "x = SeparableConv2D(64, (3, 3), padding='same',kernel_regularizer=regularization,use_bias=False)(x)\n",
        "x = BatchNormalization()(x)\n",
        "x = MaxPooling2D((3, 3), strides=(2, 2), padding='same')(x)\n",
        "x = layers.add([x, residual])\n",
        " \n",
        "# module 4\n",
        "residual = Conv2D(128, (1, 1), strides=(2, 2),padding='same', use_bias=False)(x)\n",
        "residual = BatchNormalization()(residual)\n",
        "x = SeparableConv2D(128, (3, 3), padding='same',kernel_regularizer=regularization,use_bias=False)(x)\n",
        "x = BatchNormalization()(x)\n",
        "x = Activation('relu')(x)\n",
        "x = SeparableConv2D(128, (3, 3), padding='same',kernel_regularizer=regularization,use_bias=False)(x)\n",
        "x = BatchNormalization()(x)\n",
        "x = MaxPooling2D((3, 3), strides=(2, 2), padding='same')(x)\n",
        "x = layers.add([x, residual])\n",
        "x = Conv2D(len(unique_labels), (3, 3), padding='same')(x)\n",
        "x = GlobalAveragePooling2D()(x)\n",
        "output = Activation('softmax',name='predictions')(x)\n",
        " \n",
        "model = Model(img_input, output)\n",
        "model.compile(optimizer='adam', loss='categorical_crossentropy',metrics=['accuracy'])\n",
        "model.summary()"
      ],
      "execution_count": 10,
      "outputs": [
        {
          "output_type": "stream",
          "text": [
            "WARNING:tensorflow:From /usr/local/lib/python3.6/dist-packages/keras/backend/tensorflow_backend.py:66: The name tf.get_default_graph is deprecated. Please use tf.compat.v1.get_default_graph instead.\n",
            "\n",
            "WARNING:tensorflow:From /usr/local/lib/python3.6/dist-packages/keras/backend/tensorflow_backend.py:541: The name tf.placeholder is deprecated. Please use tf.compat.v1.placeholder instead.\n",
            "\n",
            "WARNING:tensorflow:From /usr/local/lib/python3.6/dist-packages/keras/backend/tensorflow_backend.py:4432: The name tf.random_uniform is deprecated. Please use tf.random.uniform instead.\n",
            "\n",
            "WARNING:tensorflow:From /usr/local/lib/python3.6/dist-packages/keras/backend/tensorflow_backend.py:190: The name tf.get_default_session is deprecated. Please use tf.compat.v1.get_default_session instead.\n",
            "\n",
            "WARNING:tensorflow:From /usr/local/lib/python3.6/dist-packages/keras/backend/tensorflow_backend.py:197: The name tf.ConfigProto is deprecated. Please use tf.compat.v1.ConfigProto instead.\n",
            "\n",
            "WARNING:tensorflow:From /usr/local/lib/python3.6/dist-packages/keras/backend/tensorflow_backend.py:203: The name tf.Session is deprecated. Please use tf.compat.v1.Session instead.\n",
            "\n",
            "WARNING:tensorflow:From /usr/local/lib/python3.6/dist-packages/keras/backend/tensorflow_backend.py:207: The name tf.global_variables is deprecated. Please use tf.compat.v1.global_variables instead.\n",
            "\n",
            "WARNING:tensorflow:From /usr/local/lib/python3.6/dist-packages/keras/backend/tensorflow_backend.py:216: The name tf.is_variable_initialized is deprecated. Please use tf.compat.v1.is_variable_initialized instead.\n",
            "\n",
            "WARNING:tensorflow:From /usr/local/lib/python3.6/dist-packages/keras/backend/tensorflow_backend.py:223: The name tf.variables_initializer is deprecated. Please use tf.compat.v1.variables_initializer instead.\n",
            "\n",
            "WARNING:tensorflow:From /usr/local/lib/python3.6/dist-packages/keras/backend/tensorflow_backend.py:2041: The name tf.nn.fused_batch_norm is deprecated. Please use tf.compat.v1.nn.fused_batch_norm instead.\n",
            "\n",
            "WARNING:tensorflow:From /usr/local/lib/python3.6/dist-packages/keras/backend/tensorflow_backend.py:148: The name tf.placeholder_with_default is deprecated. Please use tf.compat.v1.placeholder_with_default instead.\n",
            "\n",
            "WARNING:tensorflow:From /usr/local/lib/python3.6/dist-packages/keras/backend/tensorflow_backend.py:4267: The name tf.nn.max_pool is deprecated. Please use tf.nn.max_pool2d instead.\n",
            "\n",
            "WARNING:tensorflow:From /usr/local/lib/python3.6/dist-packages/keras/optimizers.py:793: The name tf.train.Optimizer is deprecated. Please use tf.compat.v1.train.Optimizer instead.\n",
            "\n",
            "WARNING:tensorflow:From /usr/local/lib/python3.6/dist-packages/keras/backend/tensorflow_backend.py:3576: The name tf.log is deprecated. Please use tf.math.log instead.\n",
            "\n",
            "Model: \"model_1\"\n",
            "__________________________________________________________________________________________________\n",
            "Layer (type)                    Output Shape         Param #     Connected to                     \n",
            "==================================================================================================\n",
            "input_1 (InputLayer)            (None, 200, 200, 1)  0                                            \n",
            "__________________________________________________________________________________________________\n",
            "conv2d_1 (Conv2D)               (None, 198, 198, 8)  72          input_1[0][0]                    \n",
            "__________________________________________________________________________________________________\n",
            "batch_normalization_1 (BatchNor (None, 198, 198, 8)  32          conv2d_1[0][0]                   \n",
            "__________________________________________________________________________________________________\n",
            "activation_1 (Activation)       (None, 198, 198, 8)  0           batch_normalization_1[0][0]      \n",
            "__________________________________________________________________________________________________\n",
            "conv2d_2 (Conv2D)               (None, 196, 196, 8)  576         activation_1[0][0]               \n",
            "__________________________________________________________________________________________________\n",
            "batch_normalization_2 (BatchNor (None, 196, 196, 8)  32          conv2d_2[0][0]                   \n",
            "__________________________________________________________________________________________________\n",
            "activation_2 (Activation)       (None, 196, 196, 8)  0           batch_normalization_2[0][0]      \n",
            "__________________________________________________________________________________________________\n",
            "separable_conv2d_1 (SeparableCo (None, 196, 196, 16) 200         activation_2[0][0]               \n",
            "__________________________________________________________________________________________________\n",
            "batch_normalization_4 (BatchNor (None, 196, 196, 16) 64          separable_conv2d_1[0][0]         \n",
            "__________________________________________________________________________________________________\n",
            "activation_3 (Activation)       (None, 196, 196, 16) 0           batch_normalization_4[0][0]      \n",
            "__________________________________________________________________________________________________\n",
            "separable_conv2d_2 (SeparableCo (None, 196, 196, 16) 400         activation_3[0][0]               \n",
            "__________________________________________________________________________________________________\n",
            "batch_normalization_5 (BatchNor (None, 196, 196, 16) 64          separable_conv2d_2[0][0]         \n",
            "__________________________________________________________________________________________________\n",
            "conv2d_3 (Conv2D)               (None, 98, 98, 16)   128         activation_2[0][0]               \n",
            "__________________________________________________________________________________________________\n",
            "max_pooling2d_1 (MaxPooling2D)  (None, 98, 98, 16)   0           batch_normalization_5[0][0]      \n",
            "__________________________________________________________________________________________________\n",
            "batch_normalization_3 (BatchNor (None, 98, 98, 16)   64          conv2d_3[0][0]                   \n",
            "__________________________________________________________________________________________________\n",
            "add_1 (Add)                     (None, 98, 98, 16)   0           max_pooling2d_1[0][0]            \n",
            "                                                                 batch_normalization_3[0][0]      \n",
            "__________________________________________________________________________________________________\n",
            "separable_conv2d_3 (SeparableCo (None, 98, 98, 32)   656         add_1[0][0]                      \n",
            "__________________________________________________________________________________________________\n",
            "batch_normalization_7 (BatchNor (None, 98, 98, 32)   128         separable_conv2d_3[0][0]         \n",
            "__________________________________________________________________________________________________\n",
            "activation_4 (Activation)       (None, 98, 98, 32)   0           batch_normalization_7[0][0]      \n",
            "__________________________________________________________________________________________________\n",
            "separable_conv2d_4 (SeparableCo (None, 98, 98, 32)   1312        activation_4[0][0]               \n",
            "__________________________________________________________________________________________________\n",
            "batch_normalization_8 (BatchNor (None, 98, 98, 32)   128         separable_conv2d_4[0][0]         \n",
            "__________________________________________________________________________________________________\n",
            "conv2d_4 (Conv2D)               (None, 49, 49, 32)   512         add_1[0][0]                      \n",
            "__________________________________________________________________________________________________\n",
            "max_pooling2d_2 (MaxPooling2D)  (None, 49, 49, 32)   0           batch_normalization_8[0][0]      \n",
            "__________________________________________________________________________________________________\n",
            "batch_normalization_6 (BatchNor (None, 49, 49, 32)   128         conv2d_4[0][0]                   \n",
            "__________________________________________________________________________________________________\n",
            "add_2 (Add)                     (None, 49, 49, 32)   0           max_pooling2d_2[0][0]            \n",
            "                                                                 batch_normalization_6[0][0]      \n",
            "__________________________________________________________________________________________________\n",
            "separable_conv2d_5 (SeparableCo (None, 49, 49, 64)   2336        add_2[0][0]                      \n",
            "__________________________________________________________________________________________________\n",
            "batch_normalization_10 (BatchNo (None, 49, 49, 64)   256         separable_conv2d_5[0][0]         \n",
            "__________________________________________________________________________________________________\n",
            "activation_5 (Activation)       (None, 49, 49, 64)   0           batch_normalization_10[0][0]     \n",
            "__________________________________________________________________________________________________\n",
            "separable_conv2d_6 (SeparableCo (None, 49, 49, 64)   4672        activation_5[0][0]               \n",
            "__________________________________________________________________________________________________\n",
            "batch_normalization_11 (BatchNo (None, 49, 49, 64)   256         separable_conv2d_6[0][0]         \n",
            "__________________________________________________________________________________________________\n",
            "conv2d_5 (Conv2D)               (None, 25, 25, 64)   2048        add_2[0][0]                      \n",
            "__________________________________________________________________________________________________\n",
            "max_pooling2d_3 (MaxPooling2D)  (None, 25, 25, 64)   0           batch_normalization_11[0][0]     \n",
            "__________________________________________________________________________________________________\n",
            "batch_normalization_9 (BatchNor (None, 25, 25, 64)   256         conv2d_5[0][0]                   \n",
            "__________________________________________________________________________________________________\n",
            "add_3 (Add)                     (None, 25, 25, 64)   0           max_pooling2d_3[0][0]            \n",
            "                                                                 batch_normalization_9[0][0]      \n",
            "__________________________________________________________________________________________________\n",
            "separable_conv2d_7 (SeparableCo (None, 25, 25, 128)  8768        add_3[0][0]                      \n",
            "__________________________________________________________________________________________________\n",
            "batch_normalization_13 (BatchNo (None, 25, 25, 128)  512         separable_conv2d_7[0][0]         \n",
            "__________________________________________________________________________________________________\n",
            "activation_6 (Activation)       (None, 25, 25, 128)  0           batch_normalization_13[0][0]     \n",
            "__________________________________________________________________________________________________\n",
            "separable_conv2d_8 (SeparableCo (None, 25, 25, 128)  17536       activation_6[0][0]               \n",
            "__________________________________________________________________________________________________\n",
            "batch_normalization_14 (BatchNo (None, 25, 25, 128)  512         separable_conv2d_8[0][0]         \n",
            "__________________________________________________________________________________________________\n",
            "conv2d_6 (Conv2D)               (None, 13, 13, 128)  8192        add_3[0][0]                      \n",
            "__________________________________________________________________________________________________\n",
            "max_pooling2d_4 (MaxPooling2D)  (None, 13, 13, 128)  0           batch_normalization_14[0][0]     \n",
            "__________________________________________________________________________________________________\n",
            "batch_normalization_12 (BatchNo (None, 13, 13, 128)  512         conv2d_6[0][0]                   \n",
            "__________________________________________________________________________________________________\n",
            "add_4 (Add)                     (None, 13, 13, 128)  0           max_pooling2d_4[0][0]            \n",
            "                                                                 batch_normalization_12[0][0]     \n",
            "__________________________________________________________________________________________________\n",
            "conv2d_7 (Conv2D)               (None, 13, 13, 6)    6918        add_4[0][0]                      \n",
            "__________________________________________________________________________________________________\n",
            "global_average_pooling2d_1 (Glo (None, 6)            0           conv2d_7[0][0]                   \n",
            "__________________________________________________________________________________________________\n",
            "predictions (Activation)        (None, 6)            0           global_average_pooling2d_1[0][0] \n",
            "==================================================================================================\n",
            "Total params: 57,270\n",
            "Trainable params: 55,798\n",
            "Non-trainable params: 1,472\n",
            "__________________________________________________________________________________________________\n"
          ],
          "name": "stdout"
        }
      ]
    },
    {
      "cell_type": "code",
      "metadata": {
        "id": "9bsOYtBFHOnf",
        "colab_type": "code",
        "colab": {}
      },
      "source": [
        "cat_labels = keras.utils.to_categorical(num_labels)\n",
        "x, y = shuffle(imagesnp, cat_labels, random_state=42)\n",
        "x_train, x_test, y_train, y_test = tts(x, y, test_size=0.15)"
      ],
      "execution_count": 0,
      "outputs": []
    },
    {
      "cell_type": "code",
      "metadata": {
        "id": "k18JfbpnHVYc",
        "colab_type": "code",
        "colab": {}
      },
      "source": [
        "EPOCHS = 40\n",
        "validation_data = (x_test, y_test)"
      ],
      "execution_count": 0,
      "outputs": []
    },
    {
      "cell_type": "code",
      "metadata": {
        "id": "U5kZe87pHV7F",
        "colab_type": "code",
        "outputId": "da99f1b0-2117-442b-d987-906bc9c4f29f",
        "colab": {
          "base_uri": "https://localhost:8080/",
          "height": 1000
        }
      },
      "source": [
        "modelo = model.fit(x_train, y_train, validation_data=validation_data, epochs=EPOCHS)"
      ],
      "execution_count": 13,
      "outputs": [
        {
          "output_type": "stream",
          "text": [
            "WARNING:tensorflow:From /usr/local/lib/python3.6/dist-packages/tensorflow_core/python/ops/math_grad.py:1424: where (from tensorflow.python.ops.array_ops) is deprecated and will be removed in a future version.\n",
            "Instructions for updating:\n",
            "Use tf.where in 2.0, which has the same broadcast rule as np.where\n",
            "WARNING:tensorflow:From /usr/local/lib/python3.6/dist-packages/keras/backend/tensorflow_backend.py:1033: The name tf.assign_add is deprecated. Please use tf.compat.v1.assign_add instead.\n",
            "\n",
            "WARNING:tensorflow:From /usr/local/lib/python3.6/dist-packages/keras/backend/tensorflow_backend.py:1020: The name tf.assign is deprecated. Please use tf.compat.v1.assign instead.\n",
            "\n",
            "Train on 61 samples, validate on 11 samples\n",
            "Epoch 1/40\n",
            "61/61 [==============================] - 6s 106ms/step - loss: 2.6304 - acc: 0.1148 - val_loss: 2.3812 - val_acc: 0.0909\n",
            "Epoch 2/40\n",
            "61/61 [==============================] - 1s 16ms/step - loss: 2.0063 - acc: 0.2787 - val_loss: 2.7827 - val_acc: 0.0909\n",
            "Epoch 3/40\n",
            "61/61 [==============================] - 1s 16ms/step - loss: 2.1839 - acc: 0.2787 - val_loss: 2.8416 - val_acc: 0.0909\n",
            "Epoch 4/40\n",
            "61/61 [==============================] - 1s 16ms/step - loss: 1.9899 - acc: 0.3443 - val_loss: 2.9150 - val_acc: 0.0909\n",
            "Epoch 5/40\n",
            "61/61 [==============================] - 1s 16ms/step - loss: 1.7649 - acc: 0.3770 - val_loss: 2.9252 - val_acc: 0.0909\n",
            "Epoch 6/40\n",
            "61/61 [==============================] - 1s 16ms/step - loss: 1.6406 - acc: 0.4098 - val_loss: 2.6545 - val_acc: 0.0909\n",
            "Epoch 7/40\n",
            "61/61 [==============================] - 1s 16ms/step - loss: 1.6000 - acc: 0.4098 - val_loss: 2.4866 - val_acc: 0.0909\n",
            "Epoch 8/40\n",
            "61/61 [==============================] - 1s 16ms/step - loss: 1.5628 - acc: 0.4098 - val_loss: 2.4179 - val_acc: 0.0909\n",
            "Epoch 9/40\n",
            "61/61 [==============================] - 1s 16ms/step - loss: 1.5328 - acc: 0.3934 - val_loss: 2.4444 - val_acc: 0.0909\n",
            "Epoch 10/40\n",
            "61/61 [==============================] - 1s 16ms/step - loss: 1.3713 - acc: 0.6557 - val_loss: 2.7859 - val_acc: 0.1818\n",
            "Epoch 11/40\n",
            "61/61 [==============================] - 1s 16ms/step - loss: 1.2859 - acc: 0.6885 - val_loss: 3.0981 - val_acc: 0.1818\n",
            "Epoch 12/40\n",
            "61/61 [==============================] - 1s 16ms/step - loss: 1.2730 - acc: 0.6557 - val_loss: 3.5316 - val_acc: 0.0909\n",
            "Epoch 13/40\n",
            "61/61 [==============================] - 1s 16ms/step - loss: 1.1778 - acc: 0.7869 - val_loss: 3.7395 - val_acc: 0.0909\n",
            "Epoch 14/40\n",
            "61/61 [==============================] - 1s 16ms/step - loss: 1.1172 - acc: 0.8197 - val_loss: 4.2800 - val_acc: 0.0909\n",
            "Epoch 15/40\n",
            "61/61 [==============================] - 1s 16ms/step - loss: 1.0129 - acc: 0.9016 - val_loss: 5.3593 - val_acc: 0.0909\n",
            "Epoch 16/40\n",
            "61/61 [==============================] - 1s 16ms/step - loss: 0.9742 - acc: 0.9180 - val_loss: 5.3730 - val_acc: 0.0909\n",
            "Epoch 17/40\n",
            "61/61 [==============================] - 1s 16ms/step - loss: 0.8727 - acc: 0.9508 - val_loss: 5.4419 - val_acc: 0.0909\n",
            "Epoch 18/40\n",
            "61/61 [==============================] - 1s 16ms/step - loss: 0.8025 - acc: 0.9836 - val_loss: 6.7481 - val_acc: 0.0909\n",
            "Epoch 19/40\n",
            "61/61 [==============================] - 1s 16ms/step - loss: 0.7579 - acc: 1.0000 - val_loss: 7.9923 - val_acc: 0.0909\n",
            "Epoch 20/40\n",
            "61/61 [==============================] - 1s 16ms/step - loss: 0.6711 - acc: 0.9836 - val_loss: 8.1988 - val_acc: 0.0909\n",
            "Epoch 21/40\n",
            "61/61 [==============================] - 1s 16ms/step - loss: 0.6032 - acc: 1.0000 - val_loss: 10.9151 - val_acc: 0.0909\n",
            "Epoch 22/40\n",
            "61/61 [==============================] - 1s 16ms/step - loss: 0.5464 - acc: 1.0000 - val_loss: 10.5463 - val_acc: 0.0909\n",
            "Epoch 23/40\n",
            "61/61 [==============================] - 1s 16ms/step - loss: 0.5193 - acc: 1.0000 - val_loss: 9.3062 - val_acc: 0.0909\n",
            "Epoch 24/40\n",
            "61/61 [==============================] - 1s 16ms/step - loss: 0.4370 - acc: 1.0000 - val_loss: 13.8812 - val_acc: 0.0909\n",
            "Epoch 25/40\n",
            "61/61 [==============================] - 1s 16ms/step - loss: 0.4311 - acc: 1.0000 - val_loss: 12.9258 - val_acc: 0.0909\n",
            "Epoch 26/40\n",
            "61/61 [==============================] - 1s 16ms/step - loss: 0.3589 - acc: 1.0000 - val_loss: 10.4917 - val_acc: 0.0909\n",
            "Epoch 27/40\n",
            "61/61 [==============================] - 1s 16ms/step - loss: 0.3276 - acc: 1.0000 - val_loss: 12.6823 - val_acc: 0.0909\n",
            "Epoch 28/40\n",
            "61/61 [==============================] - 1s 16ms/step - loss: 0.3232 - acc: 1.0000 - val_loss: 13.4510 - val_acc: 0.0909\n",
            "Epoch 29/40\n",
            "61/61 [==============================] - 1s 16ms/step - loss: 0.2680 - acc: 1.0000 - val_loss: 9.8093 - val_acc: 0.0909\n",
            "Epoch 30/40\n",
            "61/61 [==============================] - 1s 16ms/step - loss: 0.2293 - acc: 1.0000 - val_loss: 10.2500 - val_acc: 0.0909\n",
            "Epoch 31/40\n",
            "61/61 [==============================] - 1s 16ms/step - loss: 0.2167 - acc: 1.0000 - val_loss: 13.6574 - val_acc: 0.0909\n",
            "Epoch 32/40\n",
            "61/61 [==============================] - 1s 16ms/step - loss: 0.1888 - acc: 1.0000 - val_loss: 13.6726 - val_acc: 0.0909\n",
            "Epoch 33/40\n",
            "61/61 [==============================] - 1s 16ms/step - loss: 0.1711 - acc: 1.0000 - val_loss: 10.3919 - val_acc: 0.0909\n",
            "Epoch 34/40\n",
            "61/61 [==============================] - 1s 16ms/step - loss: 0.1586 - acc: 1.0000 - val_loss: 6.8758 - val_acc: 0.0909\n",
            "Epoch 35/40\n",
            "61/61 [==============================] - 1s 16ms/step - loss: 0.1533 - acc: 1.0000 - val_loss: 7.7474 - val_acc: 0.0909\n",
            "Epoch 36/40\n",
            "61/61 [==============================] - 1s 16ms/step - loss: 0.1449 - acc: 1.0000 - val_loss: 11.9124 - val_acc: 0.0909\n",
            "Epoch 37/40\n",
            "61/61 [==============================] - 1s 16ms/step - loss: 0.1378 - acc: 1.0000 - val_loss: 12.5218 - val_acc: 0.0909\n",
            "Epoch 38/40\n",
            "61/61 [==============================] - 1s 16ms/step - loss: 0.1347 - acc: 1.0000 - val_loss: 7.5307 - val_acc: 0.0909\n",
            "Epoch 39/40\n",
            "61/61 [==============================] - 1s 16ms/step - loss: 0.1196 - acc: 1.0000 - val_loss: 6.6389 - val_acc: 0.1818\n",
            "Epoch 40/40\n",
            "61/61 [==============================] - 1s 16ms/step - loss: 0.1210 - acc: 1.0000 - val_loss: 7.9783 - val_acc: 0.0909\n"
          ],
          "name": "stdout"
        }
      ]
    },
    {
      "cell_type": "code",
      "metadata": {
        "id": "4MGUmFDh6upM",
        "colab_type": "code",
        "outputId": "87a455ce-aaab-420e-eaa6-3544b44359e2",
        "colab": {
          "base_uri": "https://localhost:8080/",
          "height": 34
        }
      },
      "source": [
        "print(modelo.history.keys())"
      ],
      "execution_count": 14,
      "outputs": [
        {
          "output_type": "stream",
          "text": [
            "dict_keys(['val_loss', 'val_acc', 'loss', 'acc'])\n"
          ],
          "name": "stdout"
        }
      ]
    },
    {
      "cell_type": "code",
      "metadata": {
        "id": "uJry5OKJ6eTJ",
        "colab_type": "code",
        "outputId": "5076492c-d83d-4485-ed27-b32f9c00001e",
        "colab": {
          "base_uri": "https://localhost:8080/",
          "height": 621
        }
      },
      "source": [
        "# summarize history for accuracy\n",
        "plt.figure(figsize=(10,10))\n",
        "plt.plot(modelo.history['acc'])\n",
        "plt.plot(modelo.history['val_acc'])\n",
        "plt.title('model accuracy')\n",
        "plt.ylabel('accuracy')\n",
        "plt.xlabel('epoch')\n",
        "plt.legend(['train', 'test'], loc='upper left')\n",
        "plt.show()"
      ],
      "execution_count": 15,
      "outputs": [
        {
          "output_type": "display_data",
          "data": {
            "image/png": "[encoded data removed]",
            "text/plain": [
              "<Figure size 720x720 with 1 Axes>"
            ]
          },
          "metadata": {
            "tags": []
          }
        }
      ]
    },
    {
      "cell_type": "code",
      "metadata": {
        "id": "pCr4-wevE2hM",
        "colab_type": "code",
        "colab": {}
      },
      "source": [
        "model.save(\"/content/gdrive/My Drive/PercepcaoComputacional/modelo/modelo.h5\")"
      ],
      "execution_count": 0,
      "outputs": []
    },
    {
      "cell_type": "markdown",
      "metadata": {
        "id": "pRbLuBoPExVF",
        "colab_type": "text"
      },
      "source": [
        "# Demonstração"
      ]
    },
    {
      "cell_type": "code",
      "metadata": {
        "id": "rT8S0otn_GMm",
        "colab_type": "code",
        "colab": {
          "base_uri": "https://localhost:8080/",
          "height": 1000
        },
        "outputId": "4634b9d9-fb9f-430f-9b18-56732a1c3196"
      },
      "source": [
        "from keras.models import load_model\n",
        "model = load_model('/content/gdrive/My Drive/PercepcaoComputacional/modelo/modelo.h5')\n",
        "model.summary()"
      ],
      "execution_count": 17,
      "outputs": [
        {
          "output_type": "stream",
          "text": [
            "Model: \"model_1\"\n",
            "__________________________________________________________________________________________________\n",
            "Layer (type)                    Output Shape         Param #     Connected to                     \n",
            "==================================================================================================\n",
            "input_1 (InputLayer)            (None, 200, 200, 1)  0                                            \n",
            "__________________________________________________________________________________________________\n",
            "conv2d_1 (Conv2D)               (None, 198, 198, 8)  72          input_1[0][0]                    \n",
            "__________________________________________________________________________________________________\n",
            "batch_normalization_1 (BatchNor (None, 198, 198, 8)  32          conv2d_1[0][0]                   \n",
            "__________________________________________________________________________________________________\n",
            "activation_1 (Activation)       (None, 198, 198, 8)  0           batch_normalization_1[0][0]      \n",
            "__________________________________________________________________________________________________\n",
            "conv2d_2 (Conv2D)               (None, 196, 196, 8)  576         activation_1[0][0]               \n",
            "__________________________________________________________________________________________________\n",
            "batch_normalization_2 (BatchNor (None, 196, 196, 8)  32          conv2d_2[0][0]                   \n",
            "__________________________________________________________________________________________________\n",
            "activation_2 (Activation)       (None, 196, 196, 8)  0           batch_normalization_2[0][0]      \n",
            "__________________________________________________________________________________________________\n",
            "separable_conv2d_1 (SeparableCo (None, 196, 196, 16) 200         activation_2[0][0]               \n",
            "__________________________________________________________________________________________________\n",
            "batch_normalization_4 (BatchNor (None, 196, 196, 16) 64          separable_conv2d_1[0][0]         \n",
            "__________________________________________________________________________________________________\n",
            "activation_3 (Activation)       (None, 196, 196, 16) 0           batch_normalization_4[0][0]      \n",
            "__________________________________________________________________________________________________\n",
            "separable_conv2d_2 (SeparableCo (None, 196, 196, 16) 400         activation_3[0][0]               \n",
            "__________________________________________________________________________________________________\n",
            "batch_normalization_5 (BatchNor (None, 196, 196, 16) 64          separable_conv2d_2[0][0]         \n",
            "__________________________________________________________________________________________________\n",
            "conv2d_3 (Conv2D)               (None, 98, 98, 16)   128         activation_2[0][0]               \n",
            "__________________________________________________________________________________________________\n",
            "max_pooling2d_1 (MaxPooling2D)  (None, 98, 98, 16)   0           batch_normalization_5[0][0]      \n",
            "__________________________________________________________________________________________________\n",
            "batch_normalization_3 (BatchNor (None, 98, 98, 16)   64          conv2d_3[0][0]                   \n",
            "__________________________________________________________________________________________________\n",
            "add_1 (Add)                     (None, 98, 98, 16)   0           max_pooling2d_1[0][0]            \n",
            "                                                                 batch_normalization_3[0][0]      \n",
            "__________________________________________________________________________________________________\n",
            "separable_conv2d_3 (SeparableCo (None, 98, 98, 32)   656         add_1[0][0]                      \n",
            "__________________________________________________________________________________________________\n",
            "batch_normalization_7 (BatchNor (None, 98, 98, 32)   128         separable_conv2d_3[0][0]         \n",
            "__________________________________________________________________________________________________\n",
            "activation_4 (Activation)       (None, 98, 98, 32)   0           batch_normalization_7[0][0]      \n",
            "__________________________________________________________________________________________________\n",
            "separable_conv2d_4 (SeparableCo (None, 98, 98, 32)   1312        activation_4[0][0]               \n",
            "__________________________________________________________________________________________________\n",
            "batch_normalization_8 (BatchNor (None, 98, 98, 32)   128         separable_conv2d_4[0][0]         \n",
            "__________________________________________________________________________________________________\n",
            "conv2d_4 (Conv2D)               (None, 49, 49, 32)   512         add_1[0][0]                      \n",
            "__________________________________________________________________________________________________\n",
            "max_pooling2d_2 (MaxPooling2D)  (None, 49, 49, 32)   0           batch_normalization_8[0][0]      \n",
            "__________________________________________________________________________________________________\n",
            "batch_normalization_6 (BatchNor (None, 49, 49, 32)   128         conv2d_4[0][0]                   \n",
            "__________________________________________________________________________________________________\n",
            "add_2 (Add)                     (None, 49, 49, 32)   0           max_pooling2d_2[0][0]            \n",
            "                                                                 batch_normalization_6[0][0]      \n",
            "__________________________________________________________________________________________________\n",
            "separable_conv2d_5 (SeparableCo (None, 49, 49, 64)   2336        add_2[0][0]                      \n",
            "__________________________________________________________________________________________________\n",
            "batch_normalization_10 (BatchNo (None, 49, 49, 64)   256         separable_conv2d_5[0][0]         \n",
            "__________________________________________________________________________________________________\n",
            "activation_5 (Activation)       (None, 49, 49, 64)   0           batch_normalization_10[0][0]     \n",
            "__________________________________________________________________________________________________\n",
            "separable_conv2d_6 (SeparableCo (None, 49, 49, 64)   4672        activation_5[0][0]               \n",
            "__________________________________________________________________________________________________\n",
            "batch_normalization_11 (BatchNo (None, 49, 49, 64)   256         separable_conv2d_6[0][0]         \n",
            "__________________________________________________________________________________________________\n",
            "conv2d_5 (Conv2D)               (None, 25, 25, 64)   2048        add_2[0][0]                      \n",
            "__________________________________________________________________________________________________\n",
            "max_pooling2d_3 (MaxPooling2D)  (None, 25, 25, 64)   0           batch_normalization_11[0][0]     \n",
            "__________________________________________________________________________________________________\n",
            "batch_normalization_9 (BatchNor (None, 25, 25, 64)   256         conv2d_5[0][0]                   \n",
            "__________________________________________________________________________________________________\n",
            "add_3 (Add)                     (None, 25, 25, 64)   0           max_pooling2d_3[0][0]            \n",
            "                                                                 batch_normalization_9[0][0]      \n",
            "__________________________________________________________________________________________________\n",
            "separable_conv2d_7 (SeparableCo (None, 25, 25, 128)  8768        add_3[0][0]                      \n",
            "__________________________________________________________________________________________________\n",
            "batch_normalization_13 (BatchNo (None, 25, 25, 128)  512         separable_conv2d_7[0][0]         \n",
            "__________________________________________________________________________________________________\n",
            "activation_6 (Activation)       (None, 25, 25, 128)  0           batch_normalization_13[0][0]     \n",
            "__________________________________________________________________________________________________\n",
            "separable_conv2d_8 (SeparableCo (None, 25, 25, 128)  17536       activation_6[0][0]               \n",
            "__________________________________________________________________________________________________\n",
            "batch_normalization_14 (BatchNo (None, 25, 25, 128)  512         separable_conv2d_8[0][0]         \n",
            "__________________________________________________________________________________________________\n",
            "conv2d_6 (Conv2D)               (None, 13, 13, 128)  8192        add_3[0][0]                      \n",
            "__________________________________________________________________________________________________\n",
            "max_pooling2d_4 (MaxPooling2D)  (None, 13, 13, 128)  0           batch_normalization_14[0][0]     \n",
            "__________________________________________________________________________________________________\n",
            "batch_normalization_12 (BatchNo (None, 13, 13, 128)  512         conv2d_6[0][0]                   \n",
            "__________________________________________________________________________________________________\n",
            "add_4 (Add)                     (None, 13, 13, 128)  0           max_pooling2d_4[0][0]            \n",
            "                                                                 batch_normalization_12[0][0]     \n",
            "__________________________________________________________________________________________________\n",
            "conv2d_7 (Conv2D)               (None, 13, 13, 6)    6918        add_4[0][0]                      \n",
            "__________________________________________________________________________________________________\n",
            "global_average_pooling2d_1 (Glo (None, 6)            0           conv2d_7[0][0]                   \n",
            "__________________________________________________________________________________________________\n",
            "predictions (Activation)        (None, 6)            0           global_average_pooling2d_1[0][0] \n",
            "==================================================================================================\n",
            "Total params: 57,270\n",
            "Trainable params: 55,798\n",
            "Non-trainable params: 1,472\n",
            "__________________________________________________________________________________________________\n"
          ],
          "name": "stdout"
        }
      ]
    },
    {
      "cell_type": "code",
      "metadata": {
        "id": "zvU8wiE-L6S5",
        "colab_type": "code",
        "colab": {}
      },
      "source": [
        "test_img = cv2.imread('unnamed.jpg')\n",
        "test_gray = cv2.cvtColor(test_img, cv2.COLOR_BGR2GRAY)\n",
        "rects=dnnFaceDetector(test_gray,1)\n",
        "\n",
        "left,top,right,bottom=0,0,0,0\n",
        "\n",
        "# Para todo rosto da imagem, é gerado um par com as coordenadas\n",
        "# que definem o bounding box. Como temo apenas um rosto em cada\n",
        "# imagem, sempre haverá apenas 1 interação nesse for\n",
        "for (i,rect) in enumerate(rects):\n",
        "  left=rect.rect.left() #x1\n",
        "  top=rect.rect.top() #y1\n",
        "  right=rect.rect.right() #x2\n",
        "  bottom=rect.rect.bottom() #y2\n",
        "  width=right-left\n",
        "  height=bottom-top\n",
        "\n",
        "# Realizamos a cropagem da imagem \n",
        "test_img_crop=test_gray[top:top+height,left:left+width]\n",
        "# Reduzimos sua dimensão para um valor predefinido\n",
        "test_img = cv2.resize(test_img_crop,(200, 200), interpolation = cv2.INTER_AREA)\n",
        "\n",
        "imagenp = np.array(test_img)\n",
        "imagenp = imagenp.reshape(-1, 200, 200,1)\n",
        "\n",
        "result = model.predict(imagenp)"
      ],
      "execution_count": 0,
      "outputs": []
    },
    {
      "cell_type": "code",
      "metadata": {
        "id": "W01tkX7fVrFR",
        "colab_type": "code",
        "colab": {
          "base_uri": "https://localhost:8080/",
          "height": 217
        },
        "outputId": "4f7fb4d5-274b-4f98-a395-78ae84891ffc"
      },
      "source": [
        "cv2_imshow(test_img)"
      ],
      "execution_count": 23,
      "outputs": [
        {
          "output_type": "display_data",
          "data": {
            "image/png": "[encoded data removed]",
            "text/plain": [
              "<PIL.Image.Image image mode=L size=200x200 at 0x7F6B4D8039E8>"
            ]
          },
          "metadata": {
            "tags": []
          }
        }
      ]
    },
    {
      "cell_type": "code",
      "metadata": {
        "id": "AT9odCUtRiWj",
        "colab_type": "code",
        "colab": {
          "base_uri": "https://localhost:8080/",
          "height": 34
        },
        "outputId": "e60e7d13-d69d-40e2-f525-a736c63b6c17"
      },
      "source": [
        "labels = {0: 'f', 1: 'd', 2: 'a', 3: 's', 4: 'n', 5: 'h'}\n",
        "labels[result.argmax()]"
      ],
      "execution_count": 24,
      "outputs": [
        {
          "output_type": "execute_result",
          "data": {
            "text/plain": [
              "'d'"
            ]
          },
          "metadata": {
            "tags": []
          },
          "execution_count": 24
        }
      ]
    }
  ]
}