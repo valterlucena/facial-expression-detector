{
  "nbformat": 4,
  "nbformat_minor": 0,
  "metadata": {
    "colab": {
      "name": "Detecção de expressoes faciais.ipynb",
      "provenance": [],
      "include_colab_link": true
    },
    "kernelspec": {
      "name": "python3",
      "display_name": "Python 3"
    }
  },
  "cells": [
    {
      "cell_type": "markdown",
      "metadata": {
        "id": "view-in-github",
        "colab_type": "text"
      },
      "source": [
        "<a href=\"https://colab.research.google.com/github/valterlucena/facial-expression-detector/blob/master/facial_expressions_detection.ipynb\" target=\"_parent\"><img src=\"https://colab.research.google.com/assets/colab-badge.svg\" alt=\"Open In Colab\"/></a>"
      ]
    },
    {
      "cell_type": "code",
      "metadata": {
        "id": "GzaVBe7RPyW-",
        "colab_type": "code",
        "colab": {}
      },
      "source": [
        "# Sessão de Imports\n",
        "from keras.models import Sequential\n",
        "from keras.layers import Dense"
      ],
      "execution_count": 0,
      "outputs": []
    },
    {
      "cell_type": "code",
      "metadata": {
        "id": "uA1V6L2ILwX2",
        "colab_type": "code",
        "colab": {}
      },
      "source": [
        "model = Sequential()\n",
        "# Adicionando uma camada \n",
        "model.add(Dense(units=64, activation='relu', input_dim=100)) \n",
        "model.add(Dense(units=10, activation='softmax'))\n",
        "x_train = [i for i in range(10)]\n",
        "y_train = [i*2 for i in x_train]\n",
        "model.fit(x_train, y_train, epochs=5, batch_size=32)"
      ],
      "execution_count": 0,
      "outputs": []
    }
  ]
}