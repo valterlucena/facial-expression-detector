{
  "nbformat": 4,
  "nbformat_minor": 0,
  "metadata": {
    "colab": {
      "name": "Detecção de expressoes faciais.ipynb",
      "provenance": [],
      "include_colab_link": true
    },
    "kernelspec": {
      "name": "python3",
      "display_name": "Python 3"
    },
    "accelerator": "GPU"
  },
  "cells": [
    {
      "cell_type": "markdown",
      "metadata": {
        "id": "view-in-github",
        "colab_type": "text"
      },
      "source": [
        "<a href=\"https://colab.research.google.com/github/valterlucena/facial-expression-detector/blob/master/facial_expressions_detection.ipynb\" target=\"_parent\"><img src=\"https://colab.research.google.com/assets/colab-badge.svg\" alt=\"Open In Colab\"/></a>"
      ]
    },
    {
      "cell_type": "code",
      "metadata": {
        "id": "uA1V6L2ILwX2",
        "colab_type": "code",
        "colab": {}
      },
      "source": [
        "# @title Dependências\n",
        "\n",
        "import numpy as np \n",
        "import matplotlib.pyplot as plt\n",
        "from sklearn.model_selection import train_test_split as tts\n",
        "from google.colab.patches import cv2_imshow\n",
        "from sklearn.model_selection import train_test_split\n",
        "from keras.layers import Activation, Convolution2D, Dropout, Conv2D\n",
        "from keras.layers import AveragePooling2D, BatchNormalization\n",
        "from keras.layers import GlobalAveragePooling2D\n",
        "from keras.models import Sequential\n",
        "from keras.layers import Flatten\n",
        "from keras.models import Model\n",
        "from keras.layers import Input\n",
        "from keras.layers import MaxPooling2D\n",
        "from keras.layers import SeparableConv2D\n",
        "from keras import layers\n",
        "from keras.regularizers import l2\n",
        "import pandas as pd\n",
        "import cv2\n",
        "import numpy as np\n",
        "from sklearn.utils import shuffle\n",
        "import os, cv2"
      ],
      "execution_count": 0,
      "outputs": []
    },
    {
      "cell_type": "markdown",
      "metadata": {
        "id": "Ubg6XhFOZKdN",
        "colab_type": "text"
      },
      "source": [
        "Para realizar o experimento, utilizaremos Python com o auxílio do keras, pandas e outras bibliotecas que nos auxiliará a manipular as imagens."
      ]
    },
    {
      "cell_type": "markdown",
      "metadata": {
        "id": "zVzeCRt8ZjyU",
        "colab_type": "text"
      },
      "source": [
        "Inicialmente, importaremos a base de imagens contendo rostos de diversas pessoas demonstrando emoções diferentes. Para cada pessoa, teremos duas imagens\n",
        "de cada emoção sendo elas: **felicidade, nojo, raiva, tristeza, medo e uma expressão neutra**. A base contém 72 fotos."
      ]
    },
    {
      "cell_type": "code",
      "metadata": {
        "id": "7CLq4cxIfsM_",
        "colab_type": "code",
        "outputId": "57c2c4c7-55ce-4a89-ace0-3edb36b701b9",
        "colab": {
          "base_uri": "https://localhost:8080/",
          "height": 54
        }
      },
      "source": [
        "from google.colab import drive\n",
        "drive.mount('/content/gdrive')\n",
        "width = int(2835)\n",
        "heigth = int(3543)"
      ],
      "execution_count": 60,
      "outputs": [
        {
          "output_type": "stream",
          "text": [
            "Drive already mounted at /content/gdrive; to attempt to forcibly remount, call drive.mount(\"/content/gdrive\", force_remount=True).\n"
          ],
          "name": "stdout"
        }
      ]
    },
    {
      "cell_type": "markdown",
      "metadata": {
        "id": "9S1Xs_K1a6j2",
        "colab_type": "text"
      },
      "source": [
        "Cada imagem tem uma dimensão de 3543 x 2835 e passará por um pré processamento antes de ser inputada no modelo de treinamento. Os trataremos que faremos serão os seguinte:\n",
        "\n",
        "\n",
        "*   Detecção de *bounding box* para face (com intuito de eliminar background)\n",
        "*   Redução de RGB para escala de cinza (com intuito de reduzir o espaço gasto e assim otimizar o treinamento)\n",
        "*   Redução das dimensões das imagens (com intuito de reduzir o espaço gasto e assim otimizar o treinamento).\n",
        "\n"
      ]
    },
    {
      "cell_type": "code",
      "metadata": {
        "id": "rDPoU5Ojj8kt",
        "colab_type": "code",
        "colab": {}
      },
      "source": [
        "import cv2\n",
        "import dlib\n",
        "\n",
        "# Carrega Rede neural convolucional para detecção de face\n",
        "dnnFaceDetector=dlib.cnn_face_detection_model_v1(\"mmod_human_face_detector.dat\")\n",
        "\n",
        "path = '/content/gdrive/My Drive/PercepcaoComputacional/faces/'\n",
        "imgfiles = [ifile for ifile in os.listdir(path) if ifile.endswith('.jpg')]\n",
        "images = []\n",
        "# As labels de cada emoção estão definidas no nome do arquivo\n",
        "labels = [label[-7][0] for label in imgfiles]\n",
        "for imgfile in imgfiles:\n",
        "    img = cv2.imread(path + imgfile)\n",
        "    # Aqui realizamos a mudança para a escala de cinza\n",
        "    gray = cv2.cvtColor(img, cv2.COLOR_BGR2GRAY)\n",
        "    # Reconhecemos a face\n",
        "    rects=dnnFaceDetector(gray,1)\n",
        "   \n",
        "    left,top,right,bottom=0,0,0,0\n",
        "    for (i,rect) in enumerate(rects):\n",
        "      left=rect.rect.left() #x1\n",
        "      top=rect.rect.top() #y1\n",
        "      right=rect.rect.right() #x2\n",
        "      bottom=rect.rect.bottom() #y2\n",
        "      width=right-left\n",
        "      height=bottom-top\n",
        "\n",
        "      # Realizamos a cropagem da imagem \n",
        "      img_crop=gray[top:top+height,left:left+width]\n",
        "      # Reduzimos sua dimensão para um valor predefinido\n",
        "      img = cv2.resize(img_crop,(200, 200), interpolation = cv2.INTER_AREA)\n",
        "      images.append(img)"
      ],
      "execution_count": 0,
      "outputs": []
    },
    {
      "cell_type": "markdown",
      "metadata": {
        "id": "bOQV0wVnclUO",
        "colab_type": "text"
      },
      "source": [
        "A seguir temos uma imagem resultado de como ficou nossa base pós processamento:"
      ]
    },
    {
      "cell_type": "code",
      "metadata": {
        "id": "w90wcrHQQI6D",
        "colab_type": "code",
        "outputId": "36ddee5e-ff9f-4466-de2a-20d2cc291798",
        "colab": {
          "base_uri": "https://localhost:8080/",
          "height": 217
        }
      },
      "source": [
        "cv2_imshow(images[0])"
      ],
      "execution_count": 89,
      "outputs": [
        {
          "output_type": "display_data",
          "data": {
            "image/png": "[encoded data removed]",
            "text/plain": [
              "<PIL.Image.Image image mode=L size=200x200 at 0x7F44D01C31D0>"
            ]
          },
          "metadata": {
            "tags": []
          }
        }
      ]
    },
    {
      "cell_type": "code",
      "metadata": {
        "id": "1w86tHUdFaCk",
        "colab_type": "code",
        "colab": {}
      },
      "source": [
        "unique_labels = list(set(labels))\n",
        "wi = {v: i for i, v in enumerate(unique_labels)}\n",
        "rwi = {i: v for i, v in enumerate(unique_labels)}\n",
        "num_labels = [wi[l] for l in labels]"
      ],
      "execution_count": 0,
      "outputs": []
    },
    {
      "cell_type": "code",
      "metadata": {
        "id": "y2M0zSODO06C",
        "colab_type": "code",
        "colab": {}
      },
      "source": [
        "imagesnp = np.array(images)\n",
        "imagesnp = imagesnp.reshape(-1, 200, 200,1)"
      ],
      "execution_count": 0,
      "outputs": []
    },
    {
      "cell_type": "code",
      "metadata": {
        "id": "1XnBaaK6O_i_",
        "colab_type": "code",
        "colab": {}
      },
      "source": [
        "regularization = l2(0.01)\n",
        "img_input = Input((200, 200, 1))\n",
        "x = Conv2D(8, (3, 3), strides=(1, 1), kernel_regularizer=regularization, use_bias=False)(img_input)\n",
        "x = BatchNormalization()(x)\n",
        "x = Activation('relu')(x)\n",
        "x = Conv2D(8, (3, 3), strides=(1, 1), kernel_regularizer=regularization, use_bias=False)(x)\n",
        "x = BatchNormalization()(x)\n",
        "x = Activation('relu')(x)\n",
        " \n",
        "# module 1\n",
        "residual = Conv2D(16, (1, 1), strides=(2, 2), padding='same', use_bias=False)(x)\n",
        "residual = BatchNormalization()(residual)\n",
        "x = SeparableConv2D(16, (3, 3), padding='same', kernel_regularizer=regularization, use_bias=False)(x)\n",
        "x = BatchNormalization()(x)\n",
        "x = Activation('relu')(x)\n",
        "x = SeparableConv2D(16, (3, 3), padding='same', kernel_regularizer=regularization, use_bias=False)(x)\n",
        "x = BatchNormalization()(x)\n",
        "x = MaxPooling2D((3, 3), strides=(2, 2), padding='same')(x)\n",
        "x = layers.add([x, residual])\n",
        " \n",
        "# module 2\n",
        "residual = Conv2D(32, (1, 1), strides=(2, 2), padding='same', use_bias=False)(x)\n",
        "residual = BatchNormalization()(residual)\n",
        "x = SeparableConv2D(32, (3, 3), padding='same', kernel_regularizer=regularization, use_bias=False)(x)\n",
        "x = BatchNormalization()(x)\n",
        "x = Activation('relu')(x)\n",
        "x = SeparableConv2D(32, (3, 3), padding='same', kernel_regularizer=regularization, use_bias=False)(x)\n",
        "x = BatchNormalization()(x)\n",
        "x = MaxPooling2D((3, 3), strides=(2, 2), padding='same')(x)\n",
        "x = layers.add([x, residual])\n",
        " \n",
        "# module 3\n",
        "residual = Conv2D(64, (1, 1), strides=(2, 2),padding='same', use_bias=False)(x)\n",
        "residual = BatchNormalization()(residual)\n",
        "x = SeparableConv2D(64, (3, 3), padding='same',kernel_regularizer=regularization,use_bias=False)(x)\n",
        "x = BatchNormalization()(x)\n",
        "x = Activation('relu')(x)\n",
        "x = SeparableConv2D(64, (3, 3), padding='same',kernel_regularizer=regularization,use_bias=False)(x)\n",
        "x = BatchNormalization()(x)\n",
        "x = MaxPooling2D((3, 3), strides=(2, 2), padding='same')(x)\n",
        "x = layers.add([x, residual])\n",
        " \n",
        "# module 4\n",
        "residual = Conv2D(128, (1, 1), strides=(2, 2),padding='same', use_bias=False)(x)\n",
        "residual = BatchNormalization()(residual)\n",
        "x = SeparableConv2D(128, (3, 3), padding='same',kernel_regularizer=regularization,use_bias=False)(x)\n",
        "x = BatchNormalization()(x)\n",
        "x = Activation('relu')(x)\n",
        "x = SeparableConv2D(128, (3, 3), padding='same',kernel_regularizer=regularization,use_bias=False)(x)\n",
        "x = BatchNormalization()(x)\n",
        "x = MaxPooling2D((3, 3), strides=(2, 2), padding='same')(x)\n",
        "x = layers.add([x, residual])\n",
        "x = Conv2D(len(unique_labels), (3, 3), padding='same')(x)\n",
        "x = GlobalAveragePooling2D()(x)\n",
        "output = Activation('softmax',name='predictions')(x)\n",
        " \n",
        "model = Model(img_input, output)\n",
        "model.compile(optimizer='adam', loss='categorical_crossentropy',metrics=['accuracy'])\n",
        "model.summary()"
      ],
      "execution_count": 0,
      "outputs": []
    },
    {
      "cell_type": "code",
      "metadata": {
        "id": "9bsOYtBFHOnf",
        "colab_type": "code",
        "colab": {}
      },
      "source": [
        "cat_labels = keras.utils.to_categorical(num_labels)\n",
        "x, y = shuffle(imagesnp, cat_labels, random_state=42)\n",
        "x_train, x_test, y_train, y_test = tts(x, y, test_size=0.2)"
      ],
      "execution_count": 0,
      "outputs": []
    },
    {
      "cell_type": "code",
      "metadata": {
        "id": "k18JfbpnHVYc",
        "colab_type": "code",
        "colab": {}
      },
      "source": [
        "EPOCHS = 100\n",
        "validation_data = (x_test, y_test)"
      ],
      "execution_count": 0,
      "outputs": []
    },
    {
      "cell_type": "code",
      "metadata": {
        "id": "U5kZe87pHV7F",
        "colab_type": "code",
        "outputId": "8378afae-7554-441c-b2ea-3c11b4fe4d35",
        "colab": {
          "base_uri": "https://localhost:8080/",
          "height": 1000
        }
      },
      "source": [
        "model.fit(x_train, y_train, validation_data=validation_data, epochs=EPOCHS)"
      ],
      "execution_count": 98,
      "outputs": [
        {
          "output_type": "stream",
          "text": [
            "Train on 57 samples, validate on 15 samples\n",
            "Epoch 1/100\n",
            "57/57 [==============================] - 2s 36ms/step - loss: 0.7820 - acc: 0.7719 - val_loss: 1.1690 - val_acc: 0.5333\n",
            "Epoch 2/100\n",
            "57/57 [==============================] - 1s 16ms/step - loss: 0.5002 - acc: 0.8421 - val_loss: 9.4784 - val_acc: 0.1333\n",
            "Epoch 3/100\n",
            "57/57 [==============================] - 1s 16ms/step - loss: 0.3847 - acc: 0.8947 - val_loss: 14.8472 - val_acc: 0.0000e+00\n",
            "Epoch 4/100\n",
            "57/57 [==============================] - 1s 16ms/step - loss: 0.2828 - acc: 0.9649 - val_loss: 15.7694 - val_acc: 0.0000e+00\n",
            "Epoch 5/100\n",
            "57/57 [==============================] - 1s 16ms/step - loss: 0.2413 - acc: 0.9825 - val_loss: 15.4861 - val_acc: 0.0000e+00\n",
            "Epoch 6/100\n",
            "57/57 [==============================] - 1s 16ms/step - loss: 0.2066 - acc: 1.0000 - val_loss: 14.6180 - val_acc: 0.0000e+00\n",
            "Epoch 7/100\n",
            "57/57 [==============================] - 1s 16ms/step - loss: 0.1570 - acc: 1.0000 - val_loss: 11.6660 - val_acc: 0.0000e+00\n",
            "Epoch 8/100\n",
            "57/57 [==============================] - 1s 16ms/step - loss: 0.1540 - acc: 1.0000 - val_loss: 12.6712 - val_acc: 0.0000e+00\n",
            "Epoch 9/100\n",
            "57/57 [==============================] - 1s 16ms/step - loss: 0.1397 - acc: 1.0000 - val_loss: 15.8336 - val_acc: 0.0000e+00\n",
            "Epoch 10/100\n",
            "57/57 [==============================] - 1s 16ms/step - loss: 0.1313 - acc: 1.0000 - val_loss: 15.8712 - val_acc: 0.0000e+00\n",
            "Epoch 11/100\n",
            "57/57 [==============================] - 1s 16ms/step - loss: 0.1290 - acc: 1.0000 - val_loss: 15.0927 - val_acc: 0.0000e+00\n",
            "Epoch 12/100\n",
            "57/57 [==============================] - 1s 16ms/step - loss: 0.1089 - acc: 1.0000 - val_loss: 14.3183 - val_acc: 0.0667\n",
            "Epoch 13/100\n",
            "57/57 [==============================] - 1s 16ms/step - loss: 0.1158 - acc: 1.0000 - val_loss: 14.0452 - val_acc: 0.1333\n",
            "Epoch 14/100\n",
            "57/57 [==============================] - 1s 16ms/step - loss: 0.1110 - acc: 1.0000 - val_loss: 13.7547 - val_acc: 0.1333\n",
            "Epoch 15/100\n",
            "57/57 [==============================] - 1s 16ms/step - loss: 0.1015 - acc: 1.0000 - val_loss: 11.7150 - val_acc: 0.1333\n",
            "Epoch 16/100\n",
            "57/57 [==============================] - 1s 16ms/step - loss: 0.0856 - acc: 1.0000 - val_loss: 7.7575 - val_acc: 0.3333\n",
            "Epoch 17/100\n",
            "57/57 [==============================] - 1s 17ms/step - loss: 0.0813 - acc: 1.0000 - val_loss: 5.0249 - val_acc: 0.5333\n",
            "Epoch 18/100\n",
            "57/57 [==============================] - 1s 16ms/step - loss: 0.0822 - acc: 1.0000 - val_loss: 4.1960 - val_acc: 0.6000\n",
            "Epoch 19/100\n",
            "57/57 [==============================] - 1s 16ms/step - loss: 0.0832 - acc: 1.0000 - val_loss: 4.0860 - val_acc: 0.6000\n",
            "Epoch 20/100\n",
            "57/57 [==============================] - 1s 16ms/step - loss: 0.0812 - acc: 1.0000 - val_loss: 4.0928 - val_acc: 0.5333\n",
            "Epoch 21/100\n",
            "57/57 [==============================] - 1s 16ms/step - loss: 0.0821 - acc: 1.0000 - val_loss: 3.9483 - val_acc: 0.5333\n",
            "Epoch 22/100\n",
            "57/57 [==============================] - 1s 16ms/step - loss: 0.0752 - acc: 1.0000 - val_loss: 3.9082 - val_acc: 0.4667\n",
            "Epoch 23/100\n",
            "57/57 [==============================] - 1s 16ms/step - loss: 0.0774 - acc: 1.0000 - val_loss: 4.2206 - val_acc: 0.4667\n",
            "Epoch 24/100\n",
            "57/57 [==============================] - 1s 16ms/step - loss: 0.0742 - acc: 1.0000 - val_loss: 5.0167 - val_acc: 0.4000\n",
            "Epoch 25/100\n",
            "57/57 [==============================] - 1s 16ms/step - loss: 0.0746 - acc: 1.0000 - val_loss: 5.4044 - val_acc: 0.3333\n",
            "Epoch 26/100\n",
            "57/57 [==============================] - 1s 16ms/step - loss: 0.0727 - acc: 1.0000 - val_loss: 5.3790 - val_acc: 0.3333\n",
            "Epoch 27/100\n",
            "57/57 [==============================] - 1s 16ms/step - loss: 0.0732 - acc: 1.0000 - val_loss: 4.8888 - val_acc: 0.3333\n",
            "Epoch 28/100\n",
            "57/57 [==============================] - 1s 16ms/step - loss: 0.0728 - acc: 1.0000 - val_loss: 4.1031 - val_acc: 0.3333\n",
            "Epoch 29/100\n",
            "57/57 [==============================] - 1s 16ms/step - loss: 0.0710 - acc: 1.0000 - val_loss: 3.4348 - val_acc: 0.4000\n",
            "Epoch 30/100\n",
            "57/57 [==============================] - 1s 16ms/step - loss: 0.0703 - acc: 1.0000 - val_loss: 3.1583 - val_acc: 0.3333\n",
            "Epoch 31/100\n",
            "57/57 [==============================] - 1s 16ms/step - loss: 0.0698 - acc: 1.0000 - val_loss: 2.9711 - val_acc: 0.3333\n",
            "Epoch 32/100\n",
            "57/57 [==============================] - 1s 17ms/step - loss: 0.0698 - acc: 1.0000 - val_loss: 2.8262 - val_acc: 0.4667\n",
            "Epoch 33/100\n",
            "57/57 [==============================] - 1s 16ms/step - loss: 0.0699 - acc: 1.0000 - val_loss: 2.7889 - val_acc: 0.5333\n",
            "Epoch 34/100\n",
            "57/57 [==============================] - 1s 16ms/step - loss: 0.0709 - acc: 1.0000 - val_loss: 2.7755 - val_acc: 0.5333\n",
            "Epoch 35/100\n",
            "57/57 [==============================] - 1s 16ms/step - loss: 0.0704 - acc: 1.0000 - val_loss: 2.7336 - val_acc: 0.5333\n",
            "Epoch 36/100\n",
            "57/57 [==============================] - 1s 16ms/step - loss: 0.0690 - acc: 1.0000 - val_loss: 2.6437 - val_acc: 0.5333\n",
            "Epoch 37/100\n",
            "57/57 [==============================] - 1s 16ms/step - loss: 0.0687 - acc: 1.0000 - val_loss: 2.5403 - val_acc: 0.5333\n",
            "Epoch 38/100\n",
            "57/57 [==============================] - 1s 16ms/step - loss: 0.0683 - acc: 1.0000 - val_loss: 2.4080 - val_acc: 0.5333\n",
            "Epoch 39/100\n",
            "57/57 [==============================] - 1s 16ms/step - loss: 0.0679 - acc: 1.0000 - val_loss: 2.2695 - val_acc: 0.6000\n",
            "Epoch 40/100\n",
            "57/57 [==============================] - 1s 16ms/step - loss: 0.0673 - acc: 1.0000 - val_loss: 2.1253 - val_acc: 0.6000\n",
            "Epoch 41/100\n",
            "57/57 [==============================] - 1s 16ms/step - loss: 0.0692 - acc: 1.0000 - val_loss: 1.9537 - val_acc: 0.6000\n",
            "Epoch 42/100\n",
            "57/57 [==============================] - 1s 16ms/step - loss: 0.0678 - acc: 1.0000 - val_loss: 1.7879 - val_acc: 0.6000\n",
            "Epoch 43/100\n",
            "57/57 [==============================] - 1s 16ms/step - loss: 0.0675 - acc: 1.0000 - val_loss: 1.6679 - val_acc: 0.6000\n",
            "Epoch 44/100\n",
            "57/57 [==============================] - 1s 16ms/step - loss: 0.0668 - acc: 1.0000 - val_loss: 1.5695 - val_acc: 0.6000\n",
            "Epoch 45/100\n",
            "57/57 [==============================] - 1s 16ms/step - loss: 0.0668 - acc: 1.0000 - val_loss: 1.4876 - val_acc: 0.6000\n",
            "Epoch 46/100\n",
            "57/57 [==============================] - 1s 16ms/step - loss: 0.0661 - acc: 1.0000 - val_loss: 1.4057 - val_acc: 0.6000\n",
            "Epoch 47/100\n",
            "57/57 [==============================] - 1s 16ms/step - loss: 0.0664 - acc: 1.0000 - val_loss: 1.3238 - val_acc: 0.6000\n",
            "Epoch 48/100\n",
            "57/57 [==============================] - 1s 16ms/step - loss: 0.0654 - acc: 1.0000 - val_loss: 1.2616 - val_acc: 0.6000\n",
            "Epoch 49/100\n",
            "57/57 [==============================] - 1s 16ms/step - loss: 0.0651 - acc: 1.0000 - val_loss: 1.1890 - val_acc: 0.6000\n",
            "Epoch 50/100\n",
            "57/57 [==============================] - 1s 16ms/step - loss: 0.0652 - acc: 1.0000 - val_loss: 1.1130 - val_acc: 0.6000\n",
            "Epoch 51/100\n",
            "57/57 [==============================] - 1s 16ms/step - loss: 0.0654 - acc: 1.0000 - val_loss: 1.0473 - val_acc: 0.6000\n",
            "Epoch 52/100\n",
            "57/57 [==============================] - 1s 17ms/step - loss: 0.0661 - acc: 1.0000 - val_loss: 0.9965 - val_acc: 0.6000\n",
            "Epoch 53/100\n",
            "57/57 [==============================] - 1s 16ms/step - loss: 0.0652 - acc: 1.0000 - val_loss: 0.9578 - val_acc: 0.6000\n",
            "Epoch 54/100\n",
            "57/57 [==============================] - 1s 17ms/step - loss: 0.0647 - acc: 1.0000 - val_loss: 0.8932 - val_acc: 0.6000\n",
            "Epoch 55/100\n",
            "57/57 [==============================] - 1s 16ms/step - loss: 0.0650 - acc: 1.0000 - val_loss: 0.8414 - val_acc: 0.6000\n",
            "Epoch 56/100\n",
            "57/57 [==============================] - 1s 16ms/step - loss: 0.0647 - acc: 1.0000 - val_loss: 0.8290 - val_acc: 0.6000\n",
            "Epoch 57/100\n",
            "57/57 [==============================] - 1s 17ms/step - loss: 0.0634 - acc: 1.0000 - val_loss: 0.8019 - val_acc: 0.6667\n",
            "Epoch 58/100\n",
            "57/57 [==============================] - 1s 16ms/step - loss: 0.0643 - acc: 1.0000 - val_loss: 0.7810 - val_acc: 0.6667\n",
            "Epoch 59/100\n",
            "57/57 [==============================] - 1s 16ms/step - loss: 0.0638 - acc: 1.0000 - val_loss: 0.7715 - val_acc: 0.6667\n",
            "Epoch 60/100\n",
            "57/57 [==============================] - 1s 16ms/step - loss: 0.0625 - acc: 1.0000 - val_loss: 0.7488 - val_acc: 0.6667\n",
            "Epoch 61/100\n",
            "57/57 [==============================] - 1s 16ms/step - loss: 0.0632 - acc: 1.0000 - val_loss: 0.7135 - val_acc: 0.6667\n",
            "Epoch 62/100\n",
            "57/57 [==============================] - 1s 17ms/step - loss: 0.0620 - acc: 1.0000 - val_loss: 0.6760 - val_acc: 0.6667\n",
            "Epoch 63/100\n",
            "57/57 [==============================] - 1s 16ms/step - loss: 0.0619 - acc: 1.0000 - val_loss: 0.6422 - val_acc: 0.6667\n",
            "Epoch 64/100\n",
            "57/57 [==============================] - 1s 16ms/step - loss: 0.0620 - acc: 1.0000 - val_loss: 0.6126 - val_acc: 0.6667\n",
            "Epoch 65/100\n",
            "57/57 [==============================] - 1s 16ms/step - loss: 0.0616 - acc: 1.0000 - val_loss: 0.5875 - val_acc: 0.6667\n",
            "Epoch 66/100\n",
            "57/57 [==============================] - 1s 16ms/step - loss: 0.0616 - acc: 1.0000 - val_loss: 0.5692 - val_acc: 0.7333\n",
            "Epoch 67/100\n",
            "57/57 [==============================] - 1s 16ms/step - loss: 0.0616 - acc: 1.0000 - val_loss: 0.5689 - val_acc: 0.7333\n",
            "Epoch 68/100\n",
            "57/57 [==============================] - 1s 16ms/step - loss: 0.0611 - acc: 1.0000 - val_loss: 0.5626 - val_acc: 0.7333\n",
            "Epoch 69/100\n",
            "57/57 [==============================] - 1s 16ms/step - loss: 0.0615 - acc: 1.0000 - val_loss: 0.5625 - val_acc: 0.7333\n",
            "Epoch 70/100\n",
            "57/57 [==============================] - 1s 16ms/step - loss: 0.0605 - acc: 1.0000 - val_loss: 0.5550 - val_acc: 0.8000\n",
            "Epoch 71/100\n",
            "57/57 [==============================] - 1s 16ms/step - loss: 0.0606 - acc: 1.0000 - val_loss: 0.5377 - val_acc: 0.8000\n",
            "Epoch 72/100\n",
            "57/57 [==============================] - 1s 16ms/step - loss: 0.0603 - acc: 1.0000 - val_loss: 0.5070 - val_acc: 0.8000\n",
            "Epoch 73/100\n",
            "57/57 [==============================] - 1s 16ms/step - loss: 0.0619 - acc: 1.0000 - val_loss: 0.4939 - val_acc: 0.7333\n",
            "Epoch 74/100\n",
            "57/57 [==============================] - 1s 16ms/step - loss: 0.0603 - acc: 1.0000 - val_loss: 0.4990 - val_acc: 0.7333\n",
            "Epoch 75/100\n",
            "57/57 [==============================] - 1s 16ms/step - loss: 0.0596 - acc: 1.0000 - val_loss: 0.5055 - val_acc: 0.8000\n",
            "Epoch 76/100\n",
            "57/57 [==============================] - 1s 16ms/step - loss: 0.0599 - acc: 1.0000 - val_loss: 0.5106 - val_acc: 0.8000\n",
            "Epoch 77/100\n",
            "57/57 [==============================] - 1s 16ms/step - loss: 0.0603 - acc: 1.0000 - val_loss: 0.5096 - val_acc: 0.8000\n",
            "Epoch 78/100\n",
            "57/57 [==============================] - 1s 16ms/step - loss: 0.0590 - acc: 1.0000 - val_loss: 0.5052 - val_acc: 0.8000\n",
            "Epoch 79/100\n",
            "57/57 [==============================] - 1s 16ms/step - loss: 0.0607 - acc: 1.0000 - val_loss: 0.4965 - val_acc: 0.8000\n",
            "Epoch 80/100\n",
            "57/57 [==============================] - 1s 16ms/step - loss: 0.0587 - acc: 1.0000 - val_loss: 0.4753 - val_acc: 0.8000\n",
            "Epoch 81/100\n",
            "57/57 [==============================] - 1s 16ms/step - loss: 0.0589 - acc: 1.0000 - val_loss: 0.4669 - val_acc: 0.8000\n",
            "Epoch 82/100\n",
            "57/57 [==============================] - 1s 17ms/step - loss: 0.0590 - acc: 1.0000 - val_loss: 0.4621 - val_acc: 0.8000\n",
            "Epoch 83/100\n",
            "57/57 [==============================] - 1s 16ms/step - loss: 0.0580 - acc: 1.0000 - val_loss: 0.4592 - val_acc: 0.8000\n",
            "Epoch 84/100\n",
            "57/57 [==============================] - 1s 16ms/step - loss: 0.0585 - acc: 1.0000 - val_loss: 0.4593 - val_acc: 0.9333\n",
            "Epoch 85/100\n",
            "57/57 [==============================] - 1s 16ms/step - loss: 0.0579 - acc: 1.0000 - val_loss: 0.4655 - val_acc: 0.8000\n",
            "Epoch 86/100\n",
            "57/57 [==============================] - 1s 16ms/step - loss: 0.0573 - acc: 1.0000 - val_loss: 0.4734 - val_acc: 0.8000\n",
            "Epoch 87/100\n",
            "57/57 [==============================] - 1s 16ms/step - loss: 0.0575 - acc: 1.0000 - val_loss: 0.4776 - val_acc: 0.8000\n",
            "Epoch 88/100\n",
            "57/57 [==============================] - 1s 16ms/step - loss: 0.0569 - acc: 1.0000 - val_loss: 0.4786 - val_acc: 0.8000\n",
            "Epoch 89/100\n",
            "57/57 [==============================] - 1s 16ms/step - loss: 0.0571 - acc: 1.0000 - val_loss: 0.4795 - val_acc: 0.8000\n",
            "Epoch 90/100\n",
            "57/57 [==============================] - 1s 16ms/step - loss: 0.0564 - acc: 1.0000 - val_loss: 0.4832 - val_acc: 0.8000\n",
            "Epoch 91/100\n",
            "57/57 [==============================] - 1s 16ms/step - loss: 0.0564 - acc: 1.0000 - val_loss: 0.4875 - val_acc: 0.8000\n",
            "Epoch 92/100\n",
            "57/57 [==============================] - 1s 16ms/step - loss: 0.0572 - acc: 1.0000 - val_loss: 0.4889 - val_acc: 0.8000\n",
            "Epoch 93/100\n",
            "57/57 [==============================] - 1s 16ms/step - loss: 0.0571 - acc: 1.0000 - val_loss: 0.4883 - val_acc: 0.8667\n",
            "Epoch 94/100\n",
            "57/57 [==============================] - 1s 16ms/step - loss: 0.0562 - acc: 1.0000 - val_loss: 0.4866 - val_acc: 0.8667\n",
            "Epoch 95/100\n",
            "57/57 [==============================] - 1s 16ms/step - loss: 0.0564 - acc: 1.0000 - val_loss: 0.4857 - val_acc: 0.9333\n",
            "Epoch 96/100\n",
            "57/57 [==============================] - 1s 16ms/step - loss: 0.0554 - acc: 1.0000 - val_loss: 0.4902 - val_acc: 0.9333\n",
            "Epoch 97/100\n",
            "57/57 [==============================] - 1s 16ms/step - loss: 0.0556 - acc: 1.0000 - val_loss: 0.4969 - val_acc: 0.9333\n",
            "Epoch 98/100\n",
            "57/57 [==============================] - 1s 17ms/step - loss: 0.0550 - acc: 1.0000 - val_loss: 0.5049 - val_acc: 0.9333\n",
            "Epoch 99/100\n",
            "57/57 [==============================] - 1s 16ms/step - loss: 0.0547 - acc: 1.0000 - val_loss: 0.5120 - val_acc: 0.9333\n",
            "Epoch 100/100\n",
            "57/57 [==============================] - 1s 16ms/step - loss: 0.0545 - acc: 1.0000 - val_loss: 0.5185 - val_acc: 0.9333\n"
          ],
          "name": "stdout"
        },
        {
          "output_type": "execute_result",
          "data": {
            "text/plain": [
              "<keras.callbacks.History at 0x7f4476693d30>"
            ]
          },
          "metadata": {
            "tags": []
          },
          "execution_count": 98
        }
      ]
    }
  ]
}