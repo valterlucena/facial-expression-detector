{
  "nbformat": 4,
  "nbformat_minor": 0,
  "metadata": {
    "colab": {
      "name": "Detecção de expressoes faciais.ipynb",
      "provenance": [],
      "include_colab_link": true
    },
    "kernelspec": {
      "name": "python3",
      "display_name": "Python 3"
    },
    "accelerator": "GPU"
  },
  "cells": [
    {
      "cell_type": "markdown",
      "metadata": {
        "id": "view-in-github",
        "colab_type": "text"
      },
      "source": [
        "<a href=\"https://colab.research.google.com/github/valterlucena/facial-expression-detector/blob/master/facial_expressions_detection.ipynb\" target=\"_parent\"><img src=\"https://colab.research.google.com/assets/colab-badge.svg\" alt=\"Open In Colab\"/></a>"
      ]
    },
    {
      "cell_type": "code",
      "metadata": {
        "id": "uA1V6L2ILwX2",
        "colab_type": "code",
        "outputId": "11add463-1159-43a2-ae15-e439716e9b79",
        "colab": {
          "base_uri": "https://localhost:8080/",
          "height": 63
        }
      },
      "source": [
        "# @title Dependências\n",
        "\n",
        "import numpy as np  # manipular dados\n",
        "\n",
        "import tensorflow as tf  # tensorflow\n",
        "import tensorflow.keras as keras  \n",
        "import matplotlib.pyplot as plt\n",
        "from sklearn.utils import shuffle\n",
        "import os, cv2\n",
        "from sklearn.model_selection import train_test_split as tts\n",
        "from google.colab.patches import cv2_imshow"
      ],
      "execution_count": 1,
      "outputs": [
        {
          "output_type": "display_data",
          "data": {
            "text/html": [
              "<p style=\"color: red;\">\n",
              "The default version of TensorFlow in Colab will soon switch to TensorFlow 2.x.<br>\n",
              "We recommend you <a href=\"https://www.tensorflow.org/guide/migrate\" target=\"_blank\">upgrade</a> now \n",
              "or ensure your notebook will continue to use TensorFlow 1.x via the <code>%tensorflow_version 1.x</code> magic:\n",
              "<a href=\"https://colab.research.google.com/notebooks/tensorflow_version.ipynb\" target=\"_blank\">more info</a>.</p>\n"
            ],
            "text/plain": [
              "<IPython.core.display.HTML object>"
            ]
          },
          "metadata": {
            "tags": []
          }
        }
      ]
    },
    {
      "cell_type": "code",
      "metadata": {
        "id": "7CLq4cxIfsM_",
        "colab_type": "code",
        "outputId": "168f8a97-b966-4109-e7cd-9a4c3ebd0f5f",
        "colab": {
          "base_uri": "https://localhost:8080/",
          "height": 122
        }
      },
      "source": [
        "from google.colab import drive\n",
        "drive.mount('/content/gdrive')\n",
        "width = int(945/10)\n",
        "heigth = int(1181/10)"
      ],
      "execution_count": 2,
      "outputs": [
        {
          "output_type": "stream",
          "text": [
            "Go to this URL in a browser: https://accounts.google.com/o/oauth2/auth?client_id=947318989803-6bn6qk8qdgf4n4g3pfee6491hc0brc4i.apps.googleusercontent.com&redirect_uri=urn%3aietf%3awg%3aoauth%3a2.0%3aoob&response_type=code&scope=email%20https%3a%2f%2fwww.googleapis.com%2fauth%2fdocs.test%20https%3a%2f%2fwww.googleapis.com%2fauth%2fdrive%20https%3a%2f%2fwww.googleapis.com%2fauth%2fdrive.photos.readonly%20https%3a%2f%2fwww.googleapis.com%2fauth%2fpeopleapi.readonly\n",
            "\n",
            "Enter your authorization code:\n",
            "··········\n",
            "Mounted at /content/gdrive\n"
          ],
          "name": "stdout"
        }
      ]
    },
    {
      "cell_type": "code",
      "metadata": {
        "id": "rDPoU5Ojj8kt",
        "colab_type": "code",
        "colab": {}
      },
      "source": [
        "path = '/content/gdrive/My Drive/PercepcaoComputacional/faces/'\n",
        "imgfiles = [ifile for ifile in os.listdir(path) if ifile.endswith('.jpg')]\n",
        "images = []\n",
        "labels = [label[-7][0] for label in imgfiles]\n",
        "for imgfile in imgfiles:\n",
        "    img = cv2.imread(path + imgfile)\n",
        "    images.append(cv2.resize(img,(width, heigth), interpolation = cv2.INTER_AREA))"
      ],
      "execution_count": 0,
      "outputs": []
    },
    {
      "cell_type": "code",
      "metadata": {
        "id": "w90wcrHQQI6D",
        "colab_type": "code",
        "outputId": "d2f0f6a7-ec4a-434f-cbed-e3ce82f75d78",
        "colab": {
          "base_uri": "https://localhost:8080/",
          "height": 135
        }
      },
      "source": [
        "cv2_imshow(images[0])"
      ],
      "execution_count": 4,
      "outputs": [
        {
          "output_type": "display_data",
          "data": {
            "image/png": "[encoded data removed]",
            "text/plain": [
              "<PIL.Image.Image image mode=RGB size=94x118 at 0x7F436BF29EF0>"
            ]
          },
          "metadata": {
            "tags": []
          }
        }
      ]
    },
    {
      "cell_type": "code",
      "metadata": {
        "id": "1w86tHUdFaCk",
        "colab_type": "code",
        "colab": {}
      },
      "source": [
        "unique_labels = list(set(labels))\n",
        "wi = {v: i for i, v in enumerate(unique_labels)}\n",
        "rwi = {i: v for i, v in enumerate(unique_labels)}\n",
        "num_labels = [wi[l] for l in labels]"
      ],
      "execution_count": 0,
      "outputs": []
    },
    {
      "cell_type": "code",
      "metadata": {
        "id": "y2M0zSODO06C",
        "colab_type": "code",
        "colab": {}
      },
      "source": [
        "imagesnp = np.array(images)\n",
        "imagesnp = imagesnp.reshape(-1, heigth, width,3)"
      ],
      "execution_count": 0,
      "outputs": []
    },
    {
      "cell_type": "code",
      "metadata": {
        "id": "1XnBaaK6O_i_",
        "colab_type": "code",
        "outputId": "89f8c366-7cf7-4869-b3fe-d2e618e3bb31",
        "colab": {
          "base_uri": "https://localhost:8080/",
          "height": 428
        }
      },
      "source": [
        "model = keras.Sequential([\n",
        "    keras.applications.vgg16.VGG16(input_shape=images[0].shape,\n",
        "                                   include_top=False),\n",
        "    keras.layers.GlobalAveragePooling2D(),\n",
        "    keras.layers.Dense(1024, activation=\"relu\"),\n",
        "    keras.layers.Dense(1024, activation=\"relu\"),\n",
        "    keras.layers.Dense(len(unique_labels), activation=\"softmax\")\n",
        "])\n",
        "model.compile(loss=\"categorical_crossentropy\", optimizer=\"adam\", metrics=['accuracy'])\n",
        "model.summary()"
      ],
      "execution_count": 12,
      "outputs": [
        {
          "output_type": "stream",
          "text": [
            "WARNING:tensorflow:From /usr/local/lib/python3.6/dist-packages/tensorflow_core/python/ops/resource_variable_ops.py:1630: calling BaseResourceVariable.__init__ (from tensorflow.python.ops.resource_variable_ops) with constraint is deprecated and will be removed in a future version.\n",
            "Instructions for updating:\n",
            "If using Keras pass *_constraint arguments to layers.\n",
            "Downloading data from https://github.com/fchollet/deep-learning-models/releases/download/v0.1/vgg16_weights_tf_dim_ordering_tf_kernels_notop.h5\n",
            "58892288/58889256 [==============================] - 6s 0us/step\n",
            "Model: \"sequential\"\n",
            "_________________________________________________________________\n",
            "Layer (type)                 Output Shape              Param #   \n",
            "=================================================================\n",
            "vgg16 (Model)                (None, 3, 2, 512)         14714688  \n",
            "_________________________________________________________________\n",
            "global_average_pooling2d (Gl (None, 512)               0         \n",
            "_________________________________________________________________\n",
            "dense (Dense)                (None, 1024)              525312    \n",
            "_________________________________________________________________\n",
            "dense_1 (Dense)              (None, 1024)              1049600   \n",
            "_________________________________________________________________\n",
            "dense_2 (Dense)              (None, 6)                 6150      \n",
            "=================================================================\n",
            "Total params: 16,295,750\n",
            "Trainable params: 16,295,750\n",
            "Non-trainable params: 0\n",
            "_________________________________________________________________\n"
          ],
          "name": "stdout"
        }
      ]
    },
    {
      "cell_type": "code",
      "metadata": {
        "id": "9bsOYtBFHOnf",
        "colab_type": "code",
        "colab": {}
      },
      "source": [
        "cat_labels = keras.utils.to_categorical(num_labels)\n",
        "x, y = shuffle(imagesnp, cat_labels, random_state=42)\n",
        "x_train, x_test, y_train, y_test = tts(x, y, test_size=0.3)"
      ],
      "execution_count": 0,
      "outputs": []
    },
    {
      "cell_type": "code",
      "metadata": {
        "id": "k18JfbpnHVYc",
        "colab_type": "code",
        "colab": {}
      },
      "source": [
        "EPOCHS = 100\n",
        "validation_data = (x_test, y_test)"
      ],
      "execution_count": 0,
      "outputs": []
    },
    {
      "cell_type": "code",
      "metadata": {
        "id": "U5kZe87pHV7F",
        "colab_type": "code",
        "outputId": "e6974ab4-be3a-44c8-f5c8-0ac662f6fda5",
        "colab": {
          "base_uri": "https://localhost:8080/",
          "height": 1000
        }
      },
      "source": [
        "modelo_vgg = model.fit(x_train, y_train, validation_data=validation_data, epochs=EPOCHS)"
      ],
      "execution_count": 15,
      "outputs": [
        {
          "output_type": "stream",
          "text": [
            "Train on 50 samples, validate on 22 samples\n",
            "Epoch 1/100\n",
            "50/50 [==============================] - 8s 166ms/sample - loss: 36.5279 - acc: 0.0800 - val_loss: 106.1872 - val_acc: 0.1364\n",
            "Epoch 2/100\n",
            "50/50 [==============================] - 1s 10ms/sample - loss: 56.5096 - acc: 0.1600 - val_loss: 2.2512 - val_acc: 0.1364\n",
            "Epoch 3/100\n",
            "50/50 [==============================] - 1s 10ms/sample - loss: 2.0504 - acc: 0.1000 - val_loss: 4.6208 - val_acc: 0.1818\n",
            "Epoch 4/100\n",
            "50/50 [==============================] - 0s 10ms/sample - loss: 4.2001 - acc: 0.2000 - val_loss: 2.2581 - val_acc: 0.1364\n",
            "Epoch 5/100\n",
            "50/50 [==============================] - 1s 10ms/sample - loss: 2.1908 - acc: 0.2000 - val_loss: 1.7926 - val_acc: 0.2273\n",
            "Epoch 6/100\n",
            "50/50 [==============================] - 0s 10ms/sample - loss: 1.7913 - acc: 0.1800 - val_loss: 1.9262 - val_acc: 0.1364\n",
            "Epoch 7/100\n",
            "50/50 [==============================] - 0s 10ms/sample - loss: 1.9521 - acc: 0.1600 - val_loss: 1.7953 - val_acc: 0.0909\n",
            "Epoch 8/100\n",
            "50/50 [==============================] - 0s 10ms/sample - loss: 1.7906 - acc: 0.2000 - val_loss: 1.7967 - val_acc: 0.0909\n",
            "Epoch 9/100\n",
            "50/50 [==============================] - 0s 10ms/sample - loss: 1.7902 - acc: 0.2000 - val_loss: 1.7980 - val_acc: 0.0909\n",
            "Epoch 10/100\n",
            "50/50 [==============================] - 0s 10ms/sample - loss: 1.7896 - acc: 0.2000 - val_loss: 1.7995 - val_acc: 0.0909\n",
            "Epoch 11/100\n",
            "50/50 [==============================] - 0s 10ms/sample - loss: 1.7891 - acc: 0.2000 - val_loss: 1.8012 - val_acc: 0.0909\n",
            "Epoch 12/100\n",
            "50/50 [==============================] - 0s 10ms/sample - loss: 1.7890 - acc: 0.2000 - val_loss: 1.8031 - val_acc: 0.0909\n",
            "Epoch 13/100\n",
            "50/50 [==============================] - 0s 10ms/sample - loss: 1.7883 - acc: 0.2000 - val_loss: 1.8051 - val_acc: 0.0909\n",
            "Epoch 14/100\n",
            "50/50 [==============================] - 0s 10ms/sample - loss: 1.7878 - acc: 0.2000 - val_loss: 1.8073 - val_acc: 0.0909\n",
            "Epoch 15/100\n",
            "50/50 [==============================] - 0s 10ms/sample - loss: 5.7284 - acc: 0.1600 - val_loss: 1.8090 - val_acc: 0.0909\n",
            "Epoch 16/100\n",
            "50/50 [==============================] - 0s 10ms/sample - loss: 1.7872 - acc: 0.2000 - val_loss: 1.8105 - val_acc: 0.0909\n",
            "Epoch 17/100\n",
            "50/50 [==============================] - 0s 10ms/sample - loss: 1.7893 - acc: 0.2000 - val_loss: 2.5446 - val_acc: 0.0909\n",
            "Epoch 18/100\n",
            "50/50 [==============================] - 0s 10ms/sample - loss: 2.1104 - acc: 0.2000 - val_loss: 1.8124 - val_acc: 0.0909\n",
            "Epoch 19/100\n",
            "50/50 [==============================] - 0s 10ms/sample - loss: 1.7874 - acc: 0.2000 - val_loss: 1.8078 - val_acc: 0.0909\n",
            "Epoch 20/100\n",
            "50/50 [==============================] - 0s 10ms/sample - loss: 1.7890 - acc: 0.2000 - val_loss: 1.8128 - val_acc: 0.0909\n",
            "Epoch 21/100\n",
            "50/50 [==============================] - 0s 10ms/sample - loss: 1.7876 - acc: 0.2000 - val_loss: 1.8129 - val_acc: 0.0909\n",
            "Epoch 22/100\n",
            "50/50 [==============================] - 0s 10ms/sample - loss: 1.7877 - acc: 0.2000 - val_loss: 1.8132 - val_acc: 0.0909\n",
            "Epoch 23/100\n",
            "50/50 [==============================] - 0s 10ms/sample - loss: 1.7872 - acc: 0.2000 - val_loss: 1.9954 - val_acc: 0.1364\n",
            "Epoch 24/100\n",
            "50/50 [==============================] - 0s 10ms/sample - loss: 1.9055 - acc: 0.1800 - val_loss: 1.8053 - val_acc: 0.0909\n",
            "Epoch 25/100\n",
            "50/50 [==============================] - 0s 10ms/sample - loss: 1.7881 - acc: 0.2000 - val_loss: 1.8134 - val_acc: 0.0909\n",
            "Epoch 26/100\n",
            "50/50 [==============================] - 0s 10ms/sample - loss: 1.7868 - acc: 0.2000 - val_loss: 1.8137 - val_acc: 0.0909\n",
            "Epoch 27/100\n",
            "50/50 [==============================] - 0s 10ms/sample - loss: 1.7865 - acc: 0.2000 - val_loss: 1.8140 - val_acc: 0.0909\n",
            "Epoch 28/100\n",
            "50/50 [==============================] - 0s 10ms/sample - loss: 1.7863 - acc: 0.2000 - val_loss: 1.8147 - val_acc: 0.0909\n",
            "Epoch 29/100\n",
            "50/50 [==============================] - 0s 10ms/sample - loss: 1.7860 - acc: 0.2000 - val_loss: 1.8152 - val_acc: 0.0909\n",
            "Epoch 30/100\n",
            "50/50 [==============================] - 0s 10ms/sample - loss: 1.7860 - acc: 0.2000 - val_loss: 1.8160 - val_acc: 0.0909\n",
            "Epoch 31/100\n",
            "50/50 [==============================] - 0s 10ms/sample - loss: 1.7856 - acc: 0.2000 - val_loss: 1.8164 - val_acc: 0.0909\n",
            "Epoch 32/100\n",
            "50/50 [==============================] - 0s 10ms/sample - loss: 2.1588 - acc: 0.1800 - val_loss: 1.8173 - val_acc: 0.0909\n",
            "Epoch 33/100\n",
            "50/50 [==============================] - 0s 10ms/sample - loss: 1.7850 - acc: 0.2000 - val_loss: 1.8183 - val_acc: 0.0909\n",
            "Epoch 34/100\n",
            "50/50 [==============================] - 0s 10ms/sample - loss: 1.7848 - acc: 0.2000 - val_loss: 1.8194 - val_acc: 0.0909\n",
            "Epoch 35/100\n",
            "50/50 [==============================] - 0s 10ms/sample - loss: 1.7849 - acc: 0.2000 - val_loss: 1.8206 - val_acc: 0.0909\n",
            "Epoch 36/100\n",
            "50/50 [==============================] - 0s 10ms/sample - loss: 1.7847 - acc: 0.2000 - val_loss: 1.8220 - val_acc: 0.0909\n",
            "Epoch 37/100\n",
            "50/50 [==============================] - 0s 10ms/sample - loss: 1.7844 - acc: 0.2000 - val_loss: 1.8232 - val_acc: 0.0909\n",
            "Epoch 38/100\n",
            "50/50 [==============================] - 0s 10ms/sample - loss: 1.7842 - acc: 0.2000 - val_loss: 1.8243 - val_acc: 0.0909\n",
            "Epoch 39/100\n",
            "50/50 [==============================] - 0s 10ms/sample - loss: 1.7843 - acc: 0.2000 - val_loss: 1.8255 - val_acc: 0.0909\n",
            "Epoch 40/100\n",
            "50/50 [==============================] - 0s 10ms/sample - loss: 1.7839 - acc: 0.2000 - val_loss: 1.8264 - val_acc: 0.0909\n",
            "Epoch 41/100\n",
            "50/50 [==============================] - 0s 10ms/sample - loss: 1.7839 - acc: 0.2000 - val_loss: 1.8275 - val_acc: 0.0909\n",
            "Epoch 42/100\n",
            "50/50 [==============================] - 0s 10ms/sample - loss: 1.7838 - acc: 0.2000 - val_loss: 1.8289 - val_acc: 0.0909\n",
            "Epoch 43/100\n",
            "50/50 [==============================] - 0s 10ms/sample - loss: 1.7837 - acc: 0.2000 - val_loss: 1.8302 - val_acc: 0.0909\n",
            "Epoch 44/100\n",
            "50/50 [==============================] - 0s 10ms/sample - loss: 1.7840 - acc: 0.2000 - val_loss: 1.8316 - val_acc: 0.0909\n",
            "Epoch 45/100\n",
            "50/50 [==============================] - 0s 10ms/sample - loss: 1.7836 - acc: 0.2000 - val_loss: 1.8323 - val_acc: 0.0909\n",
            "Epoch 46/100\n",
            "50/50 [==============================] - 0s 10ms/sample - loss: 1.7837 - acc: 0.2000 - val_loss: 1.8327 - val_acc: 0.0909\n",
            "Epoch 47/100\n",
            "50/50 [==============================] - 0s 10ms/sample - loss: 1.7836 - acc: 0.2000 - val_loss: 1.8327 - val_acc: 0.0909\n",
            "Epoch 48/100\n",
            "50/50 [==============================] - 0s 10ms/sample - loss: 1.7836 - acc: 0.2000 - val_loss: 1.8331 - val_acc: 0.0909\n",
            "Epoch 49/100\n",
            "50/50 [==============================] - 0s 10ms/sample - loss: 1.7834 - acc: 0.2000 - val_loss: 1.8331 - val_acc: 0.0909\n",
            "Epoch 50/100\n",
            "50/50 [==============================] - 0s 10ms/sample - loss: 1.7834 - acc: 0.2000 - val_loss: 1.8331 - val_acc: 0.0909\n",
            "Epoch 51/100\n",
            "50/50 [==============================] - 0s 10ms/sample - loss: 1.7833 - acc: 0.2000 - val_loss: 1.8326 - val_acc: 0.0909\n",
            "Epoch 52/100\n",
            "50/50 [==============================] - 0s 10ms/sample - loss: 1.7832 - acc: 0.2000 - val_loss: 1.8323 - val_acc: 0.0909\n",
            "Epoch 53/100\n",
            "50/50 [==============================] - 0s 10ms/sample - loss: 1.7835 - acc: 0.2000 - val_loss: 1.8321 - val_acc: 0.0909\n",
            "Epoch 54/100\n",
            "50/50 [==============================] - 0s 10ms/sample - loss: 1.7833 - acc: 0.2000 - val_loss: 1.8325 - val_acc: 0.0909\n",
            "Epoch 55/100\n",
            "50/50 [==============================] - 0s 10ms/sample - loss: 1.7833 - acc: 0.2000 - val_loss: 1.8327 - val_acc: 0.0909\n",
            "Epoch 56/100\n",
            "50/50 [==============================] - 0s 10ms/sample - loss: 1.7835 - acc: 0.2000 - val_loss: 1.8328 - val_acc: 0.0909\n",
            "Epoch 57/100\n",
            "50/50 [==============================] - 0s 10ms/sample - loss: 1.7832 - acc: 0.2000 - val_loss: 1.8323 - val_acc: 0.0909\n",
            "Epoch 58/100\n",
            "50/50 [==============================] - 0s 10ms/sample - loss: 1.7834 - acc: 0.2000 - val_loss: 1.8315 - val_acc: 0.0909\n",
            "Epoch 59/100\n",
            "50/50 [==============================] - 0s 10ms/sample - loss: 1.7833 - acc: 0.2000 - val_loss: 1.8311 - val_acc: 0.0909\n",
            "Epoch 60/100\n",
            "50/50 [==============================] - 0s 10ms/sample - loss: 1.7834 - acc: 0.2000 - val_loss: 1.8308 - val_acc: 0.0909\n",
            "Epoch 61/100\n",
            "50/50 [==============================] - 0s 10ms/sample - loss: 1.7835 - acc: 0.2000 - val_loss: 1.8311 - val_acc: 0.0909\n",
            "Epoch 62/100\n",
            "50/50 [==============================] - 0s 10ms/sample - loss: 1.7834 - acc: 0.2000 - val_loss: 1.8313 - val_acc: 0.0909\n",
            "Epoch 63/100\n",
            "50/50 [==============================] - 0s 10ms/sample - loss: 1.7833 - acc: 0.2000 - val_loss: 1.8312 - val_acc: 0.0909\n",
            "Epoch 64/100\n",
            "50/50 [==============================] - 0s 10ms/sample - loss: 1.7835 - acc: 0.2000 - val_loss: 1.8313 - val_acc: 0.0909\n",
            "Epoch 65/100\n",
            "50/50 [==============================] - 0s 10ms/sample - loss: 1.7834 - acc: 0.2000 - val_loss: 1.8310 - val_acc: 0.0909\n",
            "Epoch 66/100\n",
            "50/50 [==============================] - 0s 10ms/sample - loss: 1.7833 - acc: 0.2000 - val_loss: 1.8312 - val_acc: 0.0909\n",
            "Epoch 67/100\n",
            "50/50 [==============================] - 0s 10ms/sample - loss: 1.7833 - acc: 0.2000 - val_loss: 1.8316 - val_acc: 0.0909\n",
            "Epoch 68/100\n",
            "50/50 [==============================] - 0s 10ms/sample - loss: 1.7833 - acc: 0.2000 - val_loss: 1.8319 - val_acc: 0.0909\n",
            "Epoch 69/100\n",
            "50/50 [==============================] - 0s 10ms/sample - loss: 1.7833 - acc: 0.2000 - val_loss: 1.8325 - val_acc: 0.0909\n",
            "Epoch 70/100\n",
            "50/50 [==============================] - 0s 10ms/sample - loss: 1.7832 - acc: 0.2000 - val_loss: 1.8336 - val_acc: 0.0909\n",
            "Epoch 71/100\n",
            "50/50 [==============================] - 0s 10ms/sample - loss: 1.7832 - acc: 0.2000 - val_loss: 1.8347 - val_acc: 0.0909\n",
            "Epoch 72/100\n",
            "50/50 [==============================] - 0s 10ms/sample - loss: 1.7831 - acc: 0.2000 - val_loss: 1.8357 - val_acc: 0.0909\n",
            "Epoch 73/100\n",
            "50/50 [==============================] - 0s 10ms/sample - loss: 1.7830 - acc: 0.2000 - val_loss: 1.8366 - val_acc: 0.0909\n",
            "Epoch 74/100\n",
            "50/50 [==============================] - 0s 10ms/sample - loss: 1.7830 - acc: 0.2000 - val_loss: 1.8377 - val_acc: 0.0909\n",
            "Epoch 75/100\n",
            "50/50 [==============================] - 0s 10ms/sample - loss: 1.7831 - acc: 0.2000 - val_loss: 1.8391 - val_acc: 0.0909\n",
            "Epoch 76/100\n",
            "50/50 [==============================] - 0s 10ms/sample - loss: 1.7831 - acc: 0.2000 - val_loss: 1.8401 - val_acc: 0.0909\n",
            "Epoch 77/100\n",
            "50/50 [==============================] - 0s 10ms/sample - loss: 1.7830 - acc: 0.2000 - val_loss: 1.8408 - val_acc: 0.0909\n",
            "Epoch 78/100\n",
            "50/50 [==============================] - 0s 10ms/sample - loss: 1.7831 - acc: 0.2000 - val_loss: 1.8412 - val_acc: 0.0909\n",
            "Epoch 79/100\n",
            "50/50 [==============================] - 0s 10ms/sample - loss: 1.7831 - acc: 0.2000 - val_loss: 1.8420 - val_acc: 0.0909\n",
            "Epoch 80/100\n",
            "50/50 [==============================] - 0s 10ms/sample - loss: 1.7833 - acc: 0.2000 - val_loss: 1.8425 - val_acc: 0.0909\n",
            "Epoch 81/100\n",
            "50/50 [==============================] - 0s 10ms/sample - loss: 1.7832 - acc: 0.2000 - val_loss: 1.8423 - val_acc: 0.0909\n",
            "Epoch 82/100\n",
            "50/50 [==============================] - 0s 10ms/sample - loss: 1.7833 - acc: 0.2000 - val_loss: 1.8424 - val_acc: 0.0909\n",
            "Epoch 83/100\n",
            "50/50 [==============================] - 0s 10ms/sample - loss: 1.7831 - acc: 0.2000 - val_loss: 1.8417 - val_acc: 0.0909\n",
            "Epoch 84/100\n",
            "50/50 [==============================] - 0s 10ms/sample - loss: 1.7833 - acc: 0.2000 - val_loss: 1.8412 - val_acc: 0.0909\n",
            "Epoch 85/100\n",
            "50/50 [==============================] - 0s 10ms/sample - loss: 1.7831 - acc: 0.2000 - val_loss: 1.8415 - val_acc: 0.0909\n",
            "Epoch 86/100\n",
            "50/50 [==============================] - 0s 10ms/sample - loss: 1.7831 - acc: 0.2000 - val_loss: 1.8418 - val_acc: 0.0909\n",
            "Epoch 87/100\n",
            "50/50 [==============================] - 0s 10ms/sample - loss: 1.7830 - acc: 0.2000 - val_loss: 1.8422 - val_acc: 0.0909\n",
            "Epoch 88/100\n",
            "50/50 [==============================] - 0s 10ms/sample - loss: 1.7830 - acc: 0.2000 - val_loss: 1.8428 - val_acc: 0.0909\n",
            "Epoch 89/100\n",
            "50/50 [==============================] - 0s 10ms/sample - loss: 1.7830 - acc: 0.2000 - val_loss: 1.8437 - val_acc: 0.0909\n",
            "Epoch 90/100\n",
            "50/50 [==============================] - 0s 10ms/sample - loss: 1.7830 - acc: 0.2000 - val_loss: 1.8449 - val_acc: 0.0909\n",
            "Epoch 91/100\n",
            "50/50 [==============================] - 0s 10ms/sample - loss: 1.7832 - acc: 0.2000 - val_loss: 1.8458 - val_acc: 0.0909\n",
            "Epoch 92/100\n",
            "50/50 [==============================] - 0s 10ms/sample - loss: 1.7831 - acc: 0.2000 - val_loss: 1.8461 - val_acc: 0.0909\n",
            "Epoch 93/100\n",
            "50/50 [==============================] - 0s 10ms/sample - loss: 1.7832 - acc: 0.2000 - val_loss: 1.8466 - val_acc: 0.0909\n",
            "Epoch 94/100\n",
            "50/50 [==============================] - 0s 10ms/sample - loss: 1.7832 - acc: 0.2000 - val_loss: 1.8474 - val_acc: 0.0909\n",
            "Epoch 95/100\n",
            "50/50 [==============================] - 0s 10ms/sample - loss: 1.7833 - acc: 0.2000 - val_loss: 1.8477 - val_acc: 0.0909\n",
            "Epoch 96/100\n",
            "50/50 [==============================] - 0s 10ms/sample - loss: 1.7832 - acc: 0.2000 - val_loss: 1.8483 - val_acc: 0.0909\n",
            "Epoch 97/100\n",
            "50/50 [==============================] - 0s 10ms/sample - loss: 1.7833 - acc: 0.2000 - val_loss: 1.8491 - val_acc: 0.0909\n",
            "Epoch 98/100\n",
            "50/50 [==============================] - 0s 10ms/sample - loss: 1.7832 - acc: 0.2000 - val_loss: 1.8493 - val_acc: 0.0909\n",
            "Epoch 99/100\n",
            "50/50 [==============================] - 0s 10ms/sample - loss: 1.7833 - acc: 0.2000 - val_loss: 1.8492 - val_acc: 0.0909\n",
            "Epoch 100/100\n",
            "50/50 [==============================] - 0s 10ms/sample - loss: 1.7833 - acc: 0.2000 - val_loss: 1.8491 - val_acc: 0.0909\n"
          ],
          "name": "stdout"
        }
      ]
    },
    {
      "cell_type": "code",
      "metadata": {
        "id": "vhMzANQ36SM1",
        "colab_type": "code",
        "colab": {
          "base_uri": "https://localhost:8080/",
          "height": 34
        },
        "outputId": "ba68cc0c-49f2-4e00-83ab-bf98d1e66146"
      },
      "source": [
        "print(modelo_vgg.history.keys())"
      ],
      "execution_count": 16,
      "outputs": [
        {
          "output_type": "stream",
          "text": [
            "dict_keys(['loss', 'acc', 'val_loss', 'val_acc'])\n"
          ],
          "name": "stdout"
        }
      ]
    },
    {
      "cell_type": "code",
      "metadata": {
        "id": "5FXVdUXk63O0",
        "colab_type": "code",
        "colab": {
          "base_uri": "https://localhost:8080/",
          "height": 573
        },
        "outputId": "ea028689-5eda-4a0d-a728-3066580adb2c"
      },
      "source": [
        "import matplotlib.pyplot as plt\n",
        "\n",
        "plt.plot(modelo_vgg.history['acc'])\n",
        "plt.plot(modelo_vgg.history['val_acc'])\n",
        "plt.title('model accuracy')\n",
        "plt.ylabel('accuracy')\n",
        "plt.xlabel('epoch')\n",
        "plt.legend(['train', 'test'], loc='upper left')\n",
        "plt.show()\n",
        "\n",
        "plt.plot(modelo_vgg.history['loss'])\n",
        "plt.plot(modelo_vgg.history['val_loss'])\n",
        "plt.title('model loss')\n",
        "plt.ylabel('loss')\n",
        "plt.xlabel('epoch')\n",
        "plt.legend(['train', 'test'], loc='upper left')\n",
        "plt.show()"
      ],
      "execution_count": 20,
      "outputs": [
        {
          "output_type": "display_data",
          "data": {
            "image/png": "[encoded data removed]",
            "text/plain": [
              "<Figure size 432x288 with 1 Axes>"
            ]
          },
          "metadata": {
            "tags": []
          }
        },
        {
          "output_type": "display_data",
          "data": {
            "image/png": "[encoded data removed]",
            "text/plain": [
              "<Figure size 432x288 with 1 Axes>"
            ]
          },
          "metadata": {
            "tags": []
          }
        }
      ]
    }
  ]
}