{
  "nbformat": 4,
  "nbformat_minor": 0,
  "metadata": {
    "colab": {
      "name": "Detecção de expressoes faciais.ipynb",
      "provenance": [],
      "include_colab_link": true
    },
    "kernelspec": {
      "name": "python3",
      "display_name": "Python 3"
    }
  },
  "cells": [
    {
      "cell_type": "markdown",
      "metadata": {
        "id": "view-in-github",
        "colab_type": "text"
      },
      "source": [
        "<a href=\"https://colab.research.google.com/github/valterlucena/facial-expression-detector/blob/master/facial_expressions_detection.ipynb\" target=\"_parent\"><img src=\"https://colab.research.google.com/assets/colab-badge.svg\" alt=\"Open In Colab\"/></a>"
      ]
    },
    {
      "cell_type": "code",
      "metadata": {
        "id": "uA1V6L2ILwX2",
        "colab_type": "code",
        "outputId": "811d2139-c5cb-4c18-ca5b-081f75eb9f94",
        "colab": {
          "base_uri": "https://localhost:8080/",
          "height": 80
        }
      },
      "source": [
        "# @title Dependências\n",
        "\n",
        "import numpy as np  # manipular dados\n",
        "\n",
        "import tensorflow as tf  # tensorflow\n",
        "import tensorflow.keras as keras  \n",
        "import matplotlib.pyplot as plt\n",
        "from sklearn.utils import shuffle\n",
        "import os, cv2\n",
        "from sklearn.model_selection import train_test_split as tts\n",
        "from google.colab.patches import cv2_imshow"
      ],
      "execution_count": 2,
      "outputs": [
        {
          "output_type": "display_data",
          "data": {
            "text/html": [
              "<p style=\"color: red;\">\n",
              "The default version of TensorFlow in Colab will soon switch to TensorFlow 2.x.<br>\n",
              "We recommend you <a href=\"https://www.tensorflow.org/guide/migrate\" target=\"_blank\">upgrade</a> now \n",
              "or ensure your notebook will continue to use TensorFlow 1.x via the <code>%tensorflow_version 1.x</code> magic:\n",
              "<a href=\"https://colab.research.google.com/notebooks/tensorflow_version.ipynb\" target=\"_blank\">more info</a>.</p>\n"
            ],
            "text/plain": [
              "<IPython.core.display.HTML object>"
            ]
          },
          "metadata": {
            "tags": []
          }
        }
      ]
    },
    {
      "cell_type": "code",
      "metadata": {
        "id": "7CLq4cxIfsM_",
        "colab_type": "code",
        "outputId": "ea158d49-b618-4c1b-a284-54589143b577",
        "colab": {
          "base_uri": "https://localhost:8080/",
          "height": 54
        }
      },
      "source": [
        "from google.colab import drive\n",
        "drive.mount('/content/gdrive')\n",
        "width = int(945/10)\n",
        "heigth = int(1181/10)"
      ],
      "execution_count": 3,
      "outputs": [
        {
          "output_type": "stream",
          "text": [
            "Drive already mounted at /content/gdrive; to attempt to forcibly remount, call drive.mount(\"/content/gdrive\", force_remount=True).\n"
          ],
          "name": "stdout"
        }
      ]
    },
    {
      "cell_type": "code",
      "metadata": {
        "id": "rDPoU5Ojj8kt",
        "colab_type": "code",
        "colab": {}
      },
      "source": [
        "path = '/content/gdrive/My Drive/PercepcaoComputacional/faces/'\n",
        "imgfiles = [ifile for ifile in os.listdir(path) if ifile.endswith('.jpg')]\n",
        "images = []\n",
        "labels = [label[-7][0] for label in imgfiles]\n",
        "for imgfile in imgfiles:\n",
        "    img = cv2.imread(path + imgfile)\n",
        "    images.append(cv2.resize(img,(width, heigth), interpolation = cv2.INTER_AREA))"
      ],
      "execution_count": 0,
      "outputs": []
    },
    {
      "cell_type": "code",
      "metadata": {
        "id": "w90wcrHQQI6D",
        "colab_type": "code",
        "outputId": "8a79bad5-1ffe-4982-9d35-21b7019eeea2",
        "colab": {
          "base_uri": "https://localhost:8080/",
          "height": 135
        }
      },
      "source": [
        "cv2_imshow(images[0])"
      ],
      "execution_count": 7,
      "outputs": [
        {
          "output_type": "display_data",
          "data": {
            "image/png": "[encoded data removed]",
            "text/plain": [
              "<PIL.Image.Image image mode=RGB size=94x118 at 0x7F32BBB05630>"
            ]
          },
          "metadata": {
            "tags": []
          }
        }
      ]
    },
    {
      "cell_type": "code",
      "metadata": {
        "id": "1w86tHUdFaCk",
        "colab_type": "code",
        "colab": {}
      },
      "source": [
        "unique_labels = list(set(labels))\n",
        "wi = {v: i for i, v in enumerate(unique_labels)}\n",
        "rwi = {i: v for i, v in enumerate(unique_labels)}\n",
        "num_labels = [wi[l] for l in labels]"
      ],
      "execution_count": 0,
      "outputs": []
    },
    {
      "cell_type": "code",
      "metadata": {
        "id": "y2M0zSODO06C",
        "colab_type": "code",
        "colab": {}
      },
      "source": [
        "imagesnp = np.array(images)\n",
        "imagesnp = imagesnp.reshape(-1, heigth, width,3)"
      ],
      "execution_count": 0,
      "outputs": []
    },
    {
      "cell_type": "code",
      "metadata": {
        "id": "1XnBaaK6O_i_",
        "colab_type": "code",
        "outputId": "5cc3c40c-b324-4825-e54f-6cd3ae20badd",
        "colab": {
          "base_uri": "https://localhost:8080/",
          "height": 394
        }
      },
      "source": [
        "model = keras.Sequential([\n",
        "    keras.applications.vgg16.VGG16(input_shape=images[0].shape,\n",
        "                                   include_top=False),\n",
        "    keras.layers.GlobalAveragePooling2D(),\n",
        "    keras.layers.Dense(1024, activation=\"relu\"),\n",
        "    keras.layers.Dense(1024, activation=\"relu\"),\n",
        "    keras.layers.Dense(len(unique_labels), activation=\"softmax\")\n",
        "])\n",
        "model.compile(loss=\"categorical_crossentropy\", optimizer=\"adam\", metrics=['accuracy'])\n",
        "model.summary()"
      ],
      "execution_count": 10,
      "outputs": [
        {
          "output_type": "stream",
          "text": [
            "WARNING:tensorflow:From /usr/local/lib/python3.6/dist-packages/tensorflow_core/python/ops/resource_variable_ops.py:1630: calling BaseResourceVariable.__init__ (from tensorflow.python.ops.resource_variable_ops) with constraint is deprecated and will be removed in a future version.\n",
            "Instructions for updating:\n",
            "If using Keras pass *_constraint arguments to layers.\n",
            "Model: \"sequential\"\n",
            "_________________________________________________________________\n",
            "Layer (type)                 Output Shape              Param #   \n",
            "=================================================================\n",
            "vgg16 (Model)                (None, 3, 2, 512)         14714688  \n",
            "_________________________________________________________________\n",
            "global_average_pooling2d (Gl (None, 512)               0         \n",
            "_________________________________________________________________\n",
            "dense (Dense)                (None, 1024)              525312    \n",
            "_________________________________________________________________\n",
            "dense_1 (Dense)              (None, 1024)              1049600   \n",
            "_________________________________________________________________\n",
            "dense_2 (Dense)              (None, 6)                 6150      \n",
            "=================================================================\n",
            "Total params: 16,295,750\n",
            "Trainable params: 16,295,750\n",
            "Non-trainable params: 0\n",
            "_________________________________________________________________\n"
          ],
          "name": "stdout"
        }
      ]
    },
    {
      "cell_type": "code",
      "metadata": {
        "id": "9bsOYtBFHOnf",
        "colab_type": "code",
        "colab": {}
      },
      "source": [
        "cat_labels = keras.utils.to_categorical(num_labels)\n",
        "x, y = shuffle(imagesnp, cat_labels, random_state=42)\n",
        "x_train, x_test, y_train, y_test = tts(x, y, test_size=0.3)"
      ],
      "execution_count": 0,
      "outputs": []
    },
    {
      "cell_type": "code",
      "metadata": {
        "id": "k18JfbpnHVYc",
        "colab_type": "code",
        "colab": {}
      },
      "source": [
        "EPOCHS = 100\n",
        "validation_data = (x_test, y_test)"
      ],
      "execution_count": 0,
      "outputs": []
    },
    {
      "cell_type": "code",
      "metadata": {
        "id": "U5kZe87pHV7F",
        "colab_type": "code",
        "colab": {
          "base_uri": "https://localhost:8080/",
          "height": 377
        },
        "outputId": "14c17860-4fb9-4bab-8049-aadc4f291d09"
      },
      "source": [
        "model.fit(x_train, y_train, validation_data=validation_data, epochs=EPOCHS)"
      ],
      "execution_count": 0,
      "outputs": [
        {
          "output_type": "stream",
          "text": [
            "Train on 50 samples, validate on 22 samples\n",
            "Epoch 1/100\n",
            "50/50 [==============================] - 26s 518ms/sample - loss: 10.7047 - acc: 0.1000 - val_loss: 8.2712 - val_acc: 0.0455\n",
            "Epoch 2/100\n",
            "50/50 [==============================] - 26s 519ms/sample - loss: 7.6680 - acc: 0.2200 - val_loss: 1.7985 - val_acc: 0.0909\n",
            "Epoch 3/100\n",
            "50/50 [==============================] - 26s 513ms/sample - loss: 1.8049 - acc: 0.2000 - val_loss: 1.7958 - val_acc: 0.1818\n",
            "Epoch 4/100\n",
            "50/50 [==============================] - 26s 513ms/sample - loss: 1.9878 - acc: 0.1600 - val_loss: 1.7992 - val_acc: 0.0455\n",
            "Epoch 5/100\n",
            "50/50 [==============================] - 26s 511ms/sample - loss: 1.7889 - acc: 0.2200 - val_loss: 1.8039 - val_acc: 0.0455\n",
            "Epoch 6/100\n",
            "50/50 [==============================] - 26s 514ms/sample - loss: 5.8100 - acc: 0.2200 - val_loss: 1.8079 - val_acc: 0.0455\n",
            "Epoch 7/100\n",
            "50/50 [==============================] - 26s 515ms/sample - loss: 1.7851 - acc: 0.2200 - val_loss: 1.8114 - val_acc: 0.0455\n",
            "Epoch 8/100\n",
            "50/50 [==============================] - 26s 523ms/sample - loss: 1.7838 - acc: 0.2200 - val_loss: 1.8159 - val_acc: 0.0455\n",
            "Epoch 9/100\n",
            "50/50 [==============================] - 26s 515ms/sample - loss: 1.7818 - acc: 0.2200 - val_loss: 1.8209 - val_acc: 0.0455\n",
            "Epoch 10/100\n"
          ],
          "name": "stdout"
        }
      ]
    }
  ]
}